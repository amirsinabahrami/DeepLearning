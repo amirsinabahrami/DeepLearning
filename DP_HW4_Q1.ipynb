{
  "cells": [
    {
      "cell_type": "markdown",
      "metadata": {
        "id": "3NX-F5F8SJM7"
      },
      "source": [
        "## آ )"
      ]
    },
    {
      "cell_type": "markdown",
      "metadata": {
        "id": "B1ideZfNSVs3"
      },
      "source": [
        "<h1 dir = \"rtl\" color = \"red\">\n",
        "<b>\n",
        "نمایش SMILES:\n",
        "</b>\n",
        "</p>\n",
        "<p dir = \"rtl\">\n",
        "SMILES مخفف \"Simplified Molecular Input Line Entry System\" (سیستم ورودی خطی ساده مولکول) است و یک فرمت استاندارد برای نمایش فرمول‌های شیمیایی به صورت متنی است. این فرمت با استفاده از حروف الفبا و علائم خاص به جای نمادهای شیمیایی، اتم‌ها، پیوندها و اطلاعات دیگر را نمایش می‌دهد.\n",
        "<br>\n",
        "توضیحات SMILES شامل موارد زیر می‌شود:\n",
        "<br>\n",
        "1. اتم‌ها: هر اتم با نماد عنصر شیمیایی نمایش داده می‌شود (مثلاً C برای کربن یا O برای اکسیژن).\n",
        "<br>\n",
        "2. پیوندها: پیوندها با استفاده از علائم خاص مانند \"-\" (پیوند اصلی) یا \"=\" (پیوند دوگانه) نشان داده می‌شوند.\n",
        "<br>\n",
        "3. آرایش مکانیکی: SMILES از آرایش مکانیکی مولکول برای نشان دادن ترتیب اتم‌ها و پیوندها استفاده می‌کند.\n",
        "<br>\n",
        "4. اتصالات هیدروژن: هیدروژن‌ها به صورت ضمنی نمایش داده می‌شوند. به عنوان مثال، CH4 برای متان نمایش داده می‌شود.\n",
        "<br>\n",
        "5. اطلاعات فرعی: اطلاعات مکملی می‌توانند به SMILES افزوده شوند تا خصوصیات خاص مولکول مشخص شوند.\n",
        "<br>\n",
        "این فرمت به دلیل سادگی و قابلیت استفاده در محاسبات کامپیوتری و نگهداری داده‌های شیمیایی بسیار مورد استفاده قرار می‌گیرد.\n",
        "\n",
        "</p>"
      ]
    },
    {
      "cell_type": "code",
      "execution_count": 1,
      "metadata": {
        "colab": {
          "base_uri": "https://localhost:8080/"
        },
        "id": "pVKWq6biZLVh",
        "outputId": "d2b4ddc0-86a4-4dc9-c720-56b0f93213d4"
      },
      "outputs": [
        {
          "name": "stdout",
          "output_type": "stream",
          "text": [
            "Collecting rdkit-pypi\n",
            "  Downloading rdkit_pypi-2022.9.5-cp310-cp310-manylinux_2_17_x86_64.manylinux2014_x86_64.whl (29.4 MB)\n",
            "\u001b[2K     \u001b[90m━━━━━━━━━━━━━━━━━━━━━━━━━━━━━━━━━━━━━━━━\u001b[0m \u001b[32m29.4/29.4 MB\u001b[0m \u001b[31m26.2 MB/s\u001b[0m eta \u001b[36m0:00:00\u001b[0m\n",
            "\u001b[?25hRequirement already satisfied: numpy in /usr/local/lib/python3.10/dist-packages (from rdkit-pypi) (1.23.5)\n",
            "Requirement already satisfied: Pillow in /usr/local/lib/python3.10/dist-packages (from rdkit-pypi) (9.4.0)\n",
            "Installing collected packages: rdkit-pypi\n",
            "Successfully installed rdkit-pypi-2022.9.5\n"
          ]
        }
      ],
      "source": [
        "!pip install rdkit-pypi"
      ]
    },
    {
      "cell_type": "code",
      "execution_count": 2,
      "metadata": {
        "id": "3uqxQ9V8XzbY"
      },
      "outputs": [],
      "source": [
        "import pandas as pd\n",
        "import matplotlib.pyplot as plt\n",
        "\n",
        "from collections import Counter\n",
        "from rdkit import Chem\n",
        "from rdkit.Chem import MACCSkeys\n",
        "from rdkit.Chem import DataStructs"
      ]
    },
    {
      "cell_type": "code",
      "execution_count": 3,
      "metadata": {
        "colab": {
          "base_uri": "https://localhost:8080/",
          "height": 0
        },
        "id": "QR2Yg-4zXw2v",
        "outputId": "0868a845-66e6-4950-ce46-962def766a90"
      },
      "outputs": [
        {
          "data": {
            "image/png": "[encoded data removed]",
            "text/plain": [
              "<Figure size 640x480 with 1 Axes>"
            ]
          },
          "metadata": {},
          "output_type": "display_data"
        }
      ],
      "source": [
        "excel_file_path = 'BBBP.csv'\n",
        "\n",
        "df = pd.read_csv(excel_file_path)\n",
        "\n",
        "df['len_smiles'] = df['smiles'].apply(len)\n",
        "\n",
        "plt.hist(df['len_smiles'], bins=20, edgecolor='black')\n",
        "plt.title('lenght of smiles series')\n",
        "plt.xlabel('LEN')\n",
        "plt.ylabel('#')\n",
        "plt.show()\n"
      ]
    },
    {
      "cell_type": "markdown",
      "metadata": {
        "id": "-bV4FUfpamgA"
      },
      "source": [
        "<p dir = \"rtl\">\n",
        "<b>\n",
        "توزیع طول رشته های smiles:\n",
        "</p>\n",
        "</p>\n",
        "<p dir = \"rtl\">\n",
        "بر طبق نمودار Histogram کشیده شده از طول عمده بین 20 تا 60 توکن دارا هستند و ماکزیمم مقدار نیز 400 توکن را شامل میشود اما عمده داده ها ماکزیزم طول 120 رشته را دارند.\n",
        "\n",
        "</p>"
      ]
    },
    {
      "cell_type": "code",
      "execution_count": 4,
      "metadata": {
        "colab": {
          "base_uri": "https://localhost:8080/",
          "height": 0
        },
        "id": "4uppkBlEZUwR",
        "outputId": "65696fcd-3559-4742-abe6-5a3bc43380df"
      },
      "outputs": [
        {
          "name": "stderr",
          "output_type": "stream",
          "text": [
            "[15:39:23] Explicit valence for atom # 1 N, 4, is greater than permitted\n",
            "[15:39:23] WARNING: not removing hydrogen atom without neighbors\n",
            "[15:39:23] WARNING: not removing hydrogen atom without neighbors\n",
            "[15:39:23] Explicit valence for atom # 6 N, 4, is greater than permitted\n",
            "[15:39:23] WARNING: not removing hydrogen atom without neighbors\n",
            "[15:39:23] WARNING: not removing hydrogen atom without neighbors\n",
            "[15:39:23] WARNING: not removing hydrogen atom without neighbors\n",
            "[15:39:23] WARNING: not removing hydrogen atom without neighbors\n",
            "[15:39:23] WARNING: not removing hydrogen atom without neighbors\n",
            "[15:39:23] WARNING: not removing hydrogen atom without neighbors\n",
            "[15:39:23] WARNING: not removing hydrogen atom without neighbors\n",
            "[15:39:23] WARNING: not removing hydrogen atom without neighbors\n",
            "[15:39:23] WARNING: not removing hydrogen atom without neighbors\n",
            "[15:39:23] WARNING: not removing hydrogen atom without neighbors\n",
            "[15:39:23] WARNING: not removing hydrogen atom without neighbors\n",
            "[15:39:23] WARNING: not removing hydrogen atom without neighbors\n",
            "[15:39:23] Explicit valence for atom # 6 N, 4, is greater than permitted\n",
            "[15:39:23] WARNING: not removing hydrogen atom without neighbors\n",
            "[15:39:23] WARNING: not removing hydrogen atom without neighbors\n",
            "[15:39:23] WARNING: not removing hydrogen atom without neighbors\n",
            "[15:39:23] WARNING: not removing hydrogen atom without neighbors\n",
            "[15:39:23] WARNING: not removing hydrogen atom without neighbors\n",
            "[15:39:23] WARNING: not removing hydrogen atom without neighbors\n",
            "[15:39:23] WARNING: not removing hydrogen atom without neighbors\n",
            "[15:39:23] WARNING: not removing hydrogen atom without neighbors\n",
            "[15:39:23] Explicit valence for atom # 11 N, 4, is greater than permitted\n",
            "[15:39:24] Explicit valence for atom # 12 N, 4, is greater than permitted\n",
            "[15:39:24] Explicit valence for atom # 5 N, 4, is greater than permitted\n",
            "[15:39:24] Explicit valence for atom # 5 N, 4, is greater than permitted\n",
            "[15:39:24] Explicit valence for atom # 5 N, 4, is greater than permitted\n",
            "[15:39:24] Explicit valence for atom # 5 N, 4, is greater than permitted\n",
            "[15:39:24] Explicit valence for atom # 5 N, 4, is greater than permitted\n",
            "[15:39:24] WARNING: not removing hydrogen atom without neighbors\n",
            "[15:39:24] WARNING: not removing hydrogen atom without neighbors\n",
            "[15:39:24] WARNING: not removing hydrogen atom without neighbors\n",
            "[15:39:24] WARNING: not removing hydrogen atom without neighbors\n",
            "[15:39:24] Explicit valence for atom # 5 N, 4, is greater than permitted\n",
            "[15:39:24] WARNING: not removing hydrogen atom without neighbors\n",
            "[15:39:24] WARNING: not removing hydrogen atom without neighbors\n",
            "[15:39:24] WARNING: not removing hydrogen atom without neighbors\n",
            "[15:39:24] WARNING: not removing hydrogen atom without neighbors\n",
            "[15:39:24] WARNING: not removing hydrogen atom without neighbors\n",
            "[15:39:24] WARNING: not removing hydrogen atom without neighbors\n",
            "[15:39:24] WARNING: not removing hydrogen atom without neighbors\n",
            "[15:39:24] WARNING: not removing hydrogen atom without neighbors\n",
            "[15:39:24] WARNING: not removing hydrogen atom without neighbors\n",
            "[15:39:24] WARNING: not removing hydrogen atom without neighbors\n",
            "[15:39:24] WARNING: not removing hydrogen atom without neighbors\n",
            "[15:39:24] WARNING: not removing hydrogen atom without neighbors\n",
            "[15:39:24] WARNING: not removing hydrogen atom without neighbors\n",
            "[15:39:24] WARNING: not removing hydrogen atom without neighbors\n",
            "[15:39:24] WARNING: not removing hydrogen atom without neighbors\n",
            "[15:39:24] WARNING: not removing hydrogen atom without neighbors\n",
            "[15:39:24] WARNING: not removing hydrogen atom without neighbors\n",
            "[15:39:24] WARNING: not removing hydrogen atom without neighbors\n",
            "[15:39:25] WARNING: not removing hydrogen atom without neighbors\n",
            "[15:39:25] WARNING: not removing hydrogen atom without neighbors\n",
            "[15:39:25] WARNING: not removing hydrogen atom without neighbors\n",
            "[15:39:25] WARNING: not removing hydrogen atom without neighbors\n",
            "[15:39:25] WARNING: not removing hydrogen atom without neighbors\n",
            "[15:39:25] WARNING: not removing hydrogen atom without neighbors\n",
            "[15:39:25] WARNING: not removing hydrogen atom without neighbors\n",
            "[15:39:25] WARNING: not removing hydrogen atom without neighbors\n",
            "[15:39:25] WARNING: not removing hydrogen atom without neighbors\n",
            "[15:39:25] WARNING: not removing hydrogen atom without neighbors\n",
            "[15:39:25] WARNING: not removing hydrogen atom without neighbors\n",
            "[15:39:25] WARNING: not removing hydrogen atom without neighbors\n",
            "[15:39:25] WARNING: not removing hydrogen atom without neighbors\n",
            "[15:39:25] WARNING: not removing hydrogen atom without neighbors\n",
            "[15:39:25] WARNING: not removing hydrogen atom without neighbors\n",
            "[15:39:25] WARNING: not removing hydrogen atom without neighbors\n",
            "[15:39:25] WARNING: not removing hydrogen atom without neighbors\n",
            "[15:39:25] WARNING: not removing hydrogen atom without neighbors\n",
            "[15:39:25] WARNING: not removing hydrogen atom without neighbors\n",
            "[15:39:25] WARNING: not removing hydrogen atom without neighbors\n",
            "[15:39:25] WARNING: not removing hydrogen atom without neighbors\n",
            "[15:39:25] WARNING: not removing hydrogen atom without neighbors\n",
            "[15:39:25] WARNING: not removing hydrogen atom without neighbors\n",
            "[15:39:25] WARNING: not removing hydrogen atom without neighbors\n",
            "[15:39:25] WARNING: not removing hydrogen atom without neighbors\n",
            "[15:39:25] WARNING: not removing hydrogen atom without neighbors\n",
            "[15:39:25] WARNING: not removing hydrogen atom without neighbors\n",
            "[15:39:25] WARNING: not removing hydrogen atom without neighbors\n",
            "[15:39:25] WARNING: not removing hydrogen atom without neighbors\n",
            "[15:39:25] WARNING: not removing hydrogen atom without neighbors\n",
            "[15:39:25] WARNING: not removing hydrogen atom without neighbors\n",
            "[15:39:25] WARNING: not removing hydrogen atom without neighbors\n",
            "[15:39:25] WARNING: not removing hydrogen atom without neighbors\n",
            "[15:39:25] WARNING: not removing hydrogen atom without neighbors\n",
            "[15:39:25] WARNING: not removing hydrogen atom without neighbors\n",
            "[15:39:25] WARNING: not removing hydrogen atom without neighbors\n"
          ]
        },
        {
          "name": "stdout",
          "output_type": "stream",
          "text": [
            "فرکانس رخداد توکن‌ها: Counter({'C': 36596, 'O': 6254, 'N': 4391, 'Cl': 618, 'S': 570, 'F': 509, 'Br': 50, 'H': 40, 'Na': 21, 'P': 11, 'I': 6, 'Ca': 1, 'B': 1})\n"
          ]
        },
        {
          "data": {
            "image/png": "[encoded data removed]",
            "text/plain": [
              "<Figure size 640x480 with 1 Axes>"
            ]
          },
          "metadata": {},
          "output_type": "display_data"
        }
      ],
      "source": [
        "def analyze_smiles(smiles_list):\n",
        "    molecules = [Chem.MolFromSmiles(smiles) for smiles in smiles_list if Chem.MolFromSmiles(smiles) is not None]\n",
        "    tokens = [atom.GetSymbol() for mol in molecules for atom in mol.GetAtoms()]\n",
        "    token_frequency = Counter(tokens)\n",
        "\n",
        "    return tokens, token_frequency\n",
        "\n",
        "smiles_list = df['smiles'].tolist()\n",
        "tokens, token_frequency = analyze_smiles(smiles_list)\n",
        "\n",
        "print(\"فرکانس رخداد توکن‌ها:\", token_frequency)\n",
        "\n",
        "sorted_tokens = sorted(token_frequency.items(), key=lambda x: x[1], reverse=True)\n",
        "tokens, frequencies = zip(*sorted_tokens)\n",
        "\n",
        "plt.bar(tokens, frequencies, color='skyblue')\n",
        "plt.xlabel('tokens')\n",
        "plt.ylabel('#')\n",
        "plt.title('frequasi of tokens')\n",
        "plt.xticks(rotation=45, ha='right')\n",
        "plt.show()\n"
      ]
    },
    {
      "cell_type": "markdown",
      "metadata": {
        "id": "FdXRFdrAbnVj"
      },
      "source": [
        "## ب )"
      ]
    },
    {
      "cell_type": "code",
      "execution_count": 5,
      "metadata": {
        "id": "qPx7CzxSjOTv"
      },
      "outputs": [],
      "source": [
        "import numpy as np\n",
        "\n",
        "from tensorflow.keras.preprocessing.text import Tokenizer\n",
        "from tensorflow.keras.preprocessing.sequence import pad_sequences\n",
        "from sklearn.model_selection import train_test_split\n",
        "from tensorflow.keras.models import Sequential\n",
        "from tensorflow.keras.layers import Dense"
      ]
    },
    {
      "cell_type": "code",
      "execution_count": 6,
      "metadata": {
        "colab": {
          "base_uri": "https://localhost:8080/"
        },
        "id": "EkXCCcvhc_u0",
        "outputId": "51ab3704-cabc-49cc-f2c0-287c52dc8dbf"
      },
      "outputs": [
        {
          "name": "stdout",
          "output_type": "stream",
          "text": [
            "Shape of one-hot matrix: (2050, 120, 13)\n"
          ]
        }
      ],
      "source": [
        "max_smiles_length = 120\n",
        "\n",
        "tokenizer = Tokenizer(char_level=True)\n",
        "tokenizer.fit_on_texts(tokens)\n",
        "\n",
        "num_tokens = len(tokenizer.word_index) + 1\n",
        "\n",
        "sequences = tokenizer.texts_to_sequences(df['smiles'])\n",
        "\n",
        "padded_sequences = pad_sequences(sequences, maxlen=max_smiles_length, padding='post', truncating='post')\n",
        "\n",
        "one_hot_matrix = np.zeros((len(padded_sequences), max_smiles_length, num_tokens), dtype='int8')\n",
        "\n",
        "for i, sequence in enumerate(padded_sequences):\n",
        "    for j, token_index in enumerate(sequence):\n",
        "        one_hot_matrix[i, j, token_index] = 1\n",
        "\n",
        "print(\"Shape of one-hot matrix:\", one_hot_matrix.shape)\n"
      ]
    },
    {
      "cell_type": "code",
      "execution_count": null,
      "metadata": {
        "colab": {
          "base_uri": "https://localhost:8080/"
        },
        "id": "-CtHyRWek-ZN",
        "outputId": "87aecf96-bda6-4357-c365-95b7b0d91086"
      },
      "outputs": [
        {
          "name": "stdout",
          "output_type": "stream",
          "text": [
            "   num                  name  p_np  \\\n",
            "0    1            Propanolol     1   \n",
            "1    2  Terbutylchlorambucil     1   \n",
            "2    3                 40730     1   \n",
            "3    4                    24     1   \n",
            "4    5           cloxacillin     1   \n",
            "\n",
            "                                              smiles  len_smiles  0  1  2  3  \\\n",
            "0                   [Cl].CC(C)NCC(O)COc1cccc2ccccc12          32  0  1  0  0   \n",
            "1           C(=O)(OC(C)(C)C)CCCc1ccc(cc1)N(CCCl)CCCl          40  0  1  0  0   \n",
            "2  c12c3c(N4CCN(C)CC4)c(F)cc1c(c(C(O)=O)cn2C(C)CO...          50  0  1  0  0   \n",
            "3                   C1CCN(CC1)Cc1cccc(c1)OCCCNC(=O)C          32  0  1  0  0   \n",
            "4  Cc1onc(c2ccccc2Cl)c1C(=O)N[C@H]3[C@H]4SC(C)(C)...          66  0  1  0  0   \n",
            "\n",
            "   4  ...  1550  1551  1552  1553  1554  1555  1556  1557  1558  1559  \n",
            "0  0  ...     0     0     0     0     0     0     0     0     0     0  \n",
            "1  0  ...     0     0     0     0     0     0     0     0     0     0  \n",
            "2  0  ...     0     0     0     0     0     0     0     0     0     0  \n",
            "3  0  ...     0     0     0     0     0     0     0     0     0     0  \n",
            "4  0  ...     0     0     0     0     0     0     0     0     0     0  \n",
            "\n",
            "[5 rows x 1565 columns]\n"
          ]
        }
      ],
      "source": [
        "flat_one_hot = one_hot_matrix.reshape(len(padded_sequences), -1)\n",
        "df_one_hot = pd.concat([df, pd.DataFrame(flat_one_hot)], axis=1)\n",
        "\n",
        "print(df_one_hot.head())"
      ]
    },
    {
      "cell_type": "code",
      "execution_count": null,
      "metadata": {
        "colab": {
          "base_uri": "https://localhost:8080/"
        },
        "id": "N0iAbjmFmBua",
        "outputId": "e136e5f2-41da-4b93-9e6f-359d513e1bef"
      },
      "outputs": [
        {
          "name": "stdout",
          "output_type": "stream",
          "text": [
            "Epoch 1/10\n",
            "41/41 [==============================] - 2s 10ms/step - loss: 0.4894 - accuracy: 0.7797 - val_loss: 0.4072 - val_accuracy: 0.8415\n",
            "Epoch 2/10\n",
            "41/41 [==============================] - 0s 6ms/step - loss: 0.4244 - accuracy: 0.8239 - val_loss: 0.3689 - val_accuracy: 0.8506\n",
            "Epoch 3/10\n",
            "41/41 [==============================] - 0s 5ms/step - loss: 0.3830 - accuracy: 0.8453 - val_loss: 0.3468 - val_accuracy: 0.8689\n",
            "Epoch 4/10\n",
            "41/41 [==============================] - 0s 5ms/step - loss: 0.3568 - accuracy: 0.8529 - val_loss: 0.3794 - val_accuracy: 0.8445\n",
            "Epoch 5/10\n",
            "41/41 [==============================] - 0s 5ms/step - loss: 0.3409 - accuracy: 0.8552 - val_loss: 0.3213 - val_accuracy: 0.8598\n",
            "Epoch 6/10\n",
            "41/41 [==============================] - 0s 5ms/step - loss: 0.3221 - accuracy: 0.8727 - val_loss: 0.3306 - val_accuracy: 0.8659\n",
            "Epoch 7/10\n",
            "41/41 [==============================] - 0s 5ms/step - loss: 0.3157 - accuracy: 0.8628 - val_loss: 0.3075 - val_accuracy: 0.8720\n",
            "Epoch 8/10\n",
            "41/41 [==============================] - 0s 5ms/step - loss: 0.3073 - accuracy: 0.8712 - val_loss: 0.3540 - val_accuracy: 0.8598\n",
            "Epoch 9/10\n",
            "41/41 [==============================] - 0s 5ms/step - loss: 0.2951 - accuracy: 0.8758 - val_loss: 0.3119 - val_accuracy: 0.8720\n",
            "Epoch 10/10\n",
            "41/41 [==============================] - 0s 5ms/step - loss: 0.2943 - accuracy: 0.8788 - val_loss: 0.3124 - val_accuracy: 0.8659\n",
            "13/13 [==============================] - 0s 2ms/step - loss: 0.3825 - accuracy: 0.8366\n",
            "accuracy on test: 0.8365853428840637\n"
          ]
        }
      ],
      "source": [
        "X_train, X_test, y_train, y_test = train_test_split(flat_one_hot, df['p_np'], test_size=0.2, random_state=42)\n",
        "\n",
        "model = Sequential()\n",
        "model.add(Dense(64, input_shape=(X_train.shape[1],), activation='relu'))\n",
        "model.add(Dense(1, activation='sigmoid'))\n",
        "\n",
        "model.compile(loss='binary_crossentropy', optimizer='adam', metrics=['accuracy'])\n",
        "\n",
        "model.fit(X_train, y_train, epochs=10, batch_size=32, validation_split=0.2)\n",
        "\n",
        "accuracy = model.evaluate(X_test, y_test)[1]\n",
        "\n",
        "print(\"accuracy on test:\", accuracy)\n"
      ]
    },
    {
      "cell_type": "markdown",
      "metadata": {
        "id": "cIYlQM5Dm7su"
      },
      "source": [
        "## ج )"
      ]
    },
    {
      "cell_type": "code",
      "execution_count": 17,
      "metadata": {
        "colab": {
          "base_uri": "https://localhost:8080/"
        },
        "id": "APQjqBf5nIb5",
        "outputId": "d1f4ed6d-2838-4a8d-819b-37fa65b877e3"
      },
      "outputs": [
        {
          "name": "stdout",
          "output_type": "stream",
          "text": [
            "fold number #1 \n",
            "\n",
            "Epoch 1/10\n",
            "52/52 [==============================] - 53s 362ms/step - loss: 0.5392 - accuracy: 0.7552 - val_loss: 0.5515 - val_accuracy: 0.7730\n",
            "Epoch 2/10\n",
            "52/52 [==============================] - 17s 323ms/step - loss: 0.5171 - accuracy: 0.7747 - val_loss: 0.5114 - val_accuracy: 0.7933\n",
            "Epoch 3/10\n",
            "52/52 [==============================] - 17s 331ms/step - loss: 0.4687 - accuracy: 0.8048 - val_loss: 0.4564 - val_accuracy: 0.8267\n",
            "Epoch 4/10\n",
            "52/52 [==============================] - 18s 347ms/step - loss: 0.4384 - accuracy: 0.8277 - val_loss: 0.4654 - val_accuracy: 0.8238\n",
            "Epoch 5/10\n",
            "52/52 [==============================] - 17s 331ms/step - loss: 0.4930 - accuracy: 0.7496 - val_loss: 0.5204 - val_accuracy: 0.7659\n",
            "Epoch 6/10\n",
            "52/52 [==============================] - 17s 325ms/step - loss: 0.4830 - accuracy: 0.7640 - val_loss: 0.5068 - val_accuracy: 0.7659\n",
            "Epoch 7/10\n",
            "52/52 [==============================] - 17s 323ms/step - loss: 0.4742 - accuracy: 0.7640 - val_loss: 0.4970 - val_accuracy: 0.7659\n",
            "Epoch 8/10\n",
            "52/52 [==============================] - 17s 336ms/step - loss: 0.4608 - accuracy: 0.7640 - val_loss: 0.4661 - val_accuracy: 0.7659\n",
            "Epoch 9/10\n",
            "52/52 [==============================] - 18s 335ms/step - loss: 0.4603 - accuracy: 0.7640 - val_loss: 0.4694 - val_accuracy: 0.7659\n",
            "Epoch 10/10\n",
            "52/52 [==============================] - 17s 326ms/step - loss: 0.4640 - accuracy: 0.7640 - val_loss: 0.4761 - val_accuracy: 0.7659\n",
            "13/13 [==============================] - 1s 92ms/step - loss: 0.4761 - accuracy: 0.7659\n",
            "fold number #2 \n",
            "\n",
            "Epoch 1/10\n",
            "52/52 [==============================] - 23s 331ms/step - loss: 0.5433 - accuracy: 0.7640 - val_loss: 0.5596 - val_accuracy: 0.7667\n",
            "Epoch 2/10\n",
            "52/52 [==============================] - 16s 310ms/step - loss: 0.5145 - accuracy: 0.7631 - val_loss: 0.5480 - val_accuracy: 0.7681\n",
            "Epoch 3/10\n",
            "52/52 [==============================] - 16s 313ms/step - loss: 0.4824 - accuracy: 0.7835 - val_loss: 0.5053 - val_accuracy: 0.7121\n",
            "Epoch 4/10\n",
            "52/52 [==============================] - 16s 310ms/step - loss: 0.4918 - accuracy: 0.7355 - val_loss: 0.5159 - val_accuracy: 0.7659\n",
            "Epoch 5/10\n",
            "52/52 [==============================] - 17s 336ms/step - loss: 0.4899 - accuracy: 0.7640 - val_loss: 0.5360 - val_accuracy: 0.7658\n",
            "Epoch 6/10\n",
            "52/52 [==============================] - 17s 316ms/step - loss: 0.4882 - accuracy: 0.7482 - val_loss: 0.5261 - val_accuracy: 0.7659\n",
            "Epoch 7/10\n",
            "52/52 [==============================] - 16s 314ms/step - loss: 0.4627 - accuracy: 0.7640 - val_loss: 0.5118 - val_accuracy: 0.7660\n",
            "Epoch 8/10\n",
            "52/52 [==============================] - 16s 314ms/step - loss: 0.4587 - accuracy: 0.7909 - val_loss: 0.5058 - val_accuracy: 0.7505\n",
            "Epoch 9/10\n",
            "52/52 [==============================] - 16s 313ms/step - loss: 0.4475 - accuracy: 0.7285 - val_loss: 0.4907 - val_accuracy: 0.7651\n",
            "Epoch 10/10\n",
            "52/52 [==============================] - 17s 338ms/step - loss: 0.4412 - accuracy: 0.7478 - val_loss: 0.4930 - val_accuracy: 0.7289\n",
            "13/13 [==============================] - 2s 155ms/step - loss: 0.4930 - accuracy: 0.7289\n",
            "fold number #3 \n",
            "\n",
            "Epoch 1/10\n",
            "52/52 [==============================] - 22s 332ms/step - loss: 0.5350 - accuracy: 0.7588 - val_loss: 0.5918 - val_accuracy: 0.7108\n",
            "Epoch 2/10\n",
            "52/52 [==============================] - 17s 336ms/step - loss: 0.4840 - accuracy: 0.7522 - val_loss: 0.5039 - val_accuracy: 0.8022\n",
            "Epoch 3/10\n",
            "52/52 [==============================] - 17s 316ms/step - loss: 0.4714 - accuracy: 0.8077 - val_loss: 0.4732 - val_accuracy: 0.8258\n",
            "Epoch 4/10\n",
            "52/52 [==============================] - 16s 310ms/step - loss: 0.4582 - accuracy: 0.8041 - val_loss: 0.4999 - val_accuracy: 0.7426\n",
            "Epoch 5/10\n",
            "52/52 [==============================] - 16s 309ms/step - loss: 0.4744 - accuracy: 0.7381 - val_loss: 0.4782 - val_accuracy: 0.7323\n",
            "Epoch 6/10\n",
            "52/52 [==============================] - 16s 303ms/step - loss: 0.4607 - accuracy: 0.7454 - val_loss: 0.4663 - val_accuracy: 0.7574\n",
            "Epoch 7/10\n",
            "52/52 [==============================] - 16s 309ms/step - loss: 0.4463 - accuracy: 0.7958 - val_loss: 0.4617 - val_accuracy: 0.8277\n",
            "Epoch 8/10\n",
            "52/52 [==============================] - 17s 328ms/step - loss: 0.5022 - accuracy: 0.7304 - val_loss: 0.5447 - val_accuracy: 0.7634\n",
            "Epoch 9/10\n",
            "52/52 [==============================] - 16s 307ms/step - loss: 0.5168 - accuracy: 0.7646 - val_loss: 0.5287 - val_accuracy: 0.7634\n",
            "Epoch 10/10\n",
            "52/52 [==============================] - 17s 325ms/step - loss: 0.4975 - accuracy: 0.7646 - val_loss: 0.5125 - val_accuracy: 0.7634\n",
            "13/13 [==============================] - 1s 91ms/step - loss: 0.5125 - accuracy: 0.7634\n",
            "fold number #4 \n",
            "\n",
            "Epoch 1/10\n",
            "52/52 [==============================] - 24s 346ms/step - loss: 0.5365 - accuracy: 0.7618 - val_loss: 0.5274 - val_accuracy: 0.7610\n",
            "Epoch 2/10\n",
            "52/52 [==============================] - 17s 321ms/step - loss: 0.5096 - accuracy: 0.7222 - val_loss: 0.5374 - val_accuracy: 0.7634\n",
            "Epoch 3/10\n",
            "52/52 [==============================] - 17s 321ms/step - loss: 0.5110 - accuracy: 0.7646 - val_loss: 0.5431 - val_accuracy: 0.7634\n",
            "Epoch 4/10\n",
            "52/52 [==============================] - 18s 356ms/step - loss: 0.4976 - accuracy: 0.7646 - val_loss: 0.4696 - val_accuracy: 0.7634\n",
            "Epoch 5/10\n",
            "52/52 [==============================] - 17s 328ms/step - loss: 0.5127 - accuracy: 0.7799 - val_loss: 0.5306 - val_accuracy: 0.7862\n",
            "Epoch 6/10\n",
            "52/52 [==============================] - 17s 324ms/step - loss: 0.4734 - accuracy: 0.7925 - val_loss: 0.4512 - val_accuracy: 0.8111\n",
            "Epoch 7/10\n",
            "52/52 [==============================] - 17s 326ms/step - loss: 0.4356 - accuracy: 0.7951 - val_loss: 0.4397 - val_accuracy: 0.8244\n",
            "Epoch 8/10\n",
            "52/52 [==============================] - 18s 354ms/step - loss: 0.4755 - accuracy: 0.8141 - val_loss: 0.4623 - val_accuracy: 0.8289\n",
            "Epoch 9/10\n",
            "52/52 [==============================] - 17s 326ms/step - loss: 0.4635 - accuracy: 0.7756 - val_loss: 0.5012 - val_accuracy: 0.7183\n",
            "Epoch 10/10\n",
            "52/52 [==============================] - 17s 327ms/step - loss: 0.4532 - accuracy: 0.7551 - val_loss: 0.4662 - val_accuracy: 0.7728\n",
            "13/13 [==============================] - 2s 159ms/step - loss: 0.4662 - accuracy: 0.7728\n",
            "fold number #5 \n",
            "\n",
            "Epoch 1/10\n",
            "52/52 [==============================] - 22s 329ms/step - loss: 0.5361 - accuracy: 0.7591 - val_loss: 0.5478 - val_accuracy: 0.7774\n",
            "Epoch 2/10\n",
            "52/52 [==============================] - 17s 318ms/step - loss: 0.5087 - accuracy: 0.7824 - val_loss: 0.5682 - val_accuracy: 0.7682\n",
            "Epoch 3/10\n",
            "52/52 [==============================] - 18s 340ms/step - loss: 0.4693 - accuracy: 0.7857 - val_loss: 0.4688 - val_accuracy: 0.8208\n",
            "Epoch 4/10\n",
            "52/52 [==============================] - 16s 310ms/step - loss: 0.4812 - accuracy: 0.8019 - val_loss: 0.5096 - val_accuracy: 0.7978\n",
            "Epoch 5/10\n",
            "52/52 [==============================] - 16s 310ms/step - loss: 0.4502 - accuracy: 0.8193 - val_loss: 0.4626 - val_accuracy: 0.8256\n",
            "Epoch 6/10\n",
            "52/52 [==============================] - 16s 312ms/step - loss: 0.4298 - accuracy: 0.8335 - val_loss: 0.4750 - val_accuracy: 0.8307\n",
            "Epoch 7/10\n",
            "52/52 [==============================] - 16s 309ms/step - loss: 0.4427 - accuracy: 0.8219 - val_loss: 0.4547 - val_accuracy: 0.8334\n",
            "Epoch 8/10\n",
            "52/52 [==============================] - 17s 326ms/step - loss: 0.4346 - accuracy: 0.8330 - val_loss: 0.4647 - val_accuracy: 0.8271\n",
            "Epoch 9/10\n",
            "52/52 [==============================] - 16s 303ms/step - loss: 0.4606 - accuracy: 0.8144 - val_loss: 0.4580 - val_accuracy: 0.8361\n",
            "Epoch 10/10\n",
            "52/52 [==============================] - 16s 304ms/step - loss: 0.4432 - accuracy: 0.8020 - val_loss: 0.4616 - val_accuracy: 0.7965\n",
            "13/13 [==============================] - 1s 89ms/step - loss: 0.4616 - accuracy: 0.7965\n",
            "accuracy in fold #1: 0.7658536434173584\n",
            "accuracy in fold #2: 0.7288821339607239\n",
            "accuracy in fold #3: 0.7634146213531494\n",
            "accuracy in fold #4: 0.7728455066680908\n",
            "accuracy in fold #5: 0.7965446710586548\n",
            "Model accuracy:  0.7655081152915955\n"
          ]
        }
      ],
      "source": [
        "import pandas as pd\n",
        "import numpy as np\n",
        "from sklearn.model_selection import StratifiedKFold\n",
        "from sklearn.model_selection import train_test_split\n",
        "from tensorflow.keras.models import Sequential\n",
        "from tensorflow.keras.layers import Bidirectional, LSTM, Dense, Flatten, Embedding\n",
        "\n",
        "max_smiles_length = 120\n",
        "\n",
        "tokenizer = Tokenizer(char_level=False)\n",
        "tokenizer.fit_on_texts(tokens)\n",
        "\n",
        "num_tokens = len(tokenizer.word_index) + 1\n",
        "\n",
        "sequences = tokenizer.texts_to_sequences(df['smiles'])\n",
        "\n",
        "padded_sequences = pad_sequences(sequences, maxlen=max_smiles_length, padding='post', truncating='post')\n",
        "\n",
        "X_train, X_test, y_train, y_test = train_test_split(padded_sequences, df['p_np'], test_size=0.2, random_state=42)\n",
        "\n",
        "def create_bilstm_model():\n",
        "    model = Sequential()\n",
        "    model.add(Embedding(input_dim=num_tokens, output_dim=64, input_length=max_smiles_length))\n",
        "    model.add(LSTM(128, return_sequences=True))\n",
        "    model.add(LSTM(64, return_sequences=True))\n",
        "    model.add(Dense(32, activation='relu'))\n",
        "    model.add(Dense(16, activation='relu'))\n",
        "    model.add(Dense(1, activation='sigmoid'))\n",
        "\n",
        "    model.compile(loss='binary_crossentropy', optimizer=\"adam\", metrics=['accuracy'])\n",
        "\n",
        "    return model\n",
        "\n",
        "n_splits = 5\n",
        "skf = StratifiedKFold(n_splits=n_splits, shuffle=True, random_state=42)\n",
        "fold_accuracies = []\n",
        "\n",
        "X = padded_sequences\n",
        "y = df['p_np']\n",
        "i = 1\n",
        "\n",
        "for train_index, test_index in skf.split(X, y):\n",
        "    print(f\"fold number #{i} \\n\")\n",
        "    i = i + 1\n",
        "    X_train, X_test = X[train_index], X[test_index]\n",
        "    y_train, y_test = y.iloc[train_index], y.iloc[test_index]\n",
        "\n",
        "    model = create_bilstm_model()\n",
        "    class_weights = {0: 1.1, 1: 0.8}\n",
        "    model.fit(X_train, y_train, epochs=10, batch_size=32, validation_data=(X_test, y_test), class_weight=class_weights)\n",
        "\n",
        "    accuracy = model.evaluate(X_test, y_test)[1]\n",
        "    fold_accuracies.append(accuracy)\n",
        "\n",
        "for i, accuracy in enumerate(fold_accuracies, 1):\n",
        "    print(f\"accuracy in fold #{i}: {accuracy}\")\n",
        "\n",
        "mean_accuracy = np.mean(fold_accuracies)\n",
        "print(f\"Model accuracy:  {mean_accuracy}\")\n"
      ]
    },
    {
      "cell_type": "markdown",
      "metadata": {
        "id": "QhYQrDDjUPWv"
      },
      "source": [
        "## د )"
      ]
    },
    {
      "cell_type": "code",
      "execution_count": 18,
      "metadata": {
        "colab": {
          "base_uri": "https://localhost:8080/"
        },
        "id": "-zK2iA-DV3LD",
        "outputId": "b0e4ccce-e684-4cf3-99f3-0771d28f19d7"
      },
      "outputs": [
        {
          "name": "stdout",
          "output_type": "stream",
          "text": [
            "fold number #1 \n",
            "\n",
            "Epoch 1/10\n",
            "52/52 [==============================] - 51s 778ms/step - loss: 0.5770 - accuracy: 0.7659 - val_loss: 0.4610 - val_accuracy: 0.7976\n",
            "Epoch 2/10\n",
            "52/52 [==============================] - 38s 731ms/step - loss: 0.5075 - accuracy: 0.7957 - val_loss: 0.4162 - val_accuracy: 0.8317\n",
            "Epoch 3/10\n",
            "52/52 [==============================] - 36s 699ms/step - loss: 0.4629 - accuracy: 0.8366 - val_loss: 0.4042 - val_accuracy: 0.8268\n",
            "Epoch 4/10\n",
            "52/52 [==============================] - 38s 733ms/step - loss: 0.4536 - accuracy: 0.8409 - val_loss: 0.4077 - val_accuracy: 0.8366\n",
            "Epoch 5/10\n",
            "52/52 [==============================] - 39s 756ms/step - loss: 0.4478 - accuracy: 0.8390 - val_loss: 0.4050 - val_accuracy: 0.8341\n",
            "Epoch 6/10\n",
            "52/52 [==============================] - 37s 711ms/step - loss: 0.4406 - accuracy: 0.8402 - val_loss: 0.3986 - val_accuracy: 0.8390\n",
            "Epoch 7/10\n",
            "52/52 [==============================] - 38s 717ms/step - loss: 0.4389 - accuracy: 0.8384 - val_loss: 0.3883 - val_accuracy: 0.8439\n",
            "Epoch 8/10\n",
            "52/52 [==============================] - 40s 780ms/step - loss: 0.4241 - accuracy: 0.8470 - val_loss: 0.3878 - val_accuracy: 0.8561\n",
            "Epoch 9/10\n",
            "52/52 [==============================] - 39s 752ms/step - loss: 0.4248 - accuracy: 0.8445 - val_loss: 0.3905 - val_accuracy: 0.8537\n",
            "Epoch 10/10\n",
            "52/52 [==============================] - 36s 702ms/step - loss: 0.5548 - accuracy: 0.8067 - val_loss: 0.5081 - val_accuracy: 0.7659\n",
            "13/13 [==============================] - 3s 217ms/step - loss: 0.5081 - accuracy: 0.7659\n",
            "fold number #2 \n",
            "\n",
            "Epoch 1/10\n",
            "52/52 [==============================] - 51s 772ms/step - loss: 0.5581 - accuracy: 0.7610 - val_loss: 0.4776 - val_accuracy: 0.7463\n",
            "Epoch 2/10\n",
            "52/52 [==============================] - 38s 732ms/step - loss: 0.4788 - accuracy: 0.8268 - val_loss: 0.4344 - val_accuracy: 0.8317\n",
            "Epoch 3/10\n",
            "52/52 [==============================] - 38s 743ms/step - loss: 0.4608 - accuracy: 0.8366 - val_loss: 0.4339 - val_accuracy: 0.8220\n",
            "Epoch 4/10\n",
            "52/52 [==============================] - 36s 687ms/step - loss: 0.4456 - accuracy: 0.8396 - val_loss: 0.4282 - val_accuracy: 0.8171\n",
            "Epoch 5/10\n",
            "52/52 [==============================] - 39s 747ms/step - loss: 0.4464 - accuracy: 0.8378 - val_loss: 0.4414 - val_accuracy: 0.8171\n",
            "Epoch 6/10\n",
            "52/52 [==============================] - 41s 789ms/step - loss: 0.4457 - accuracy: 0.8415 - val_loss: 0.4490 - val_accuracy: 0.8049\n",
            "Epoch 7/10\n",
            "52/52 [==============================] - 39s 750ms/step - loss: 0.4344 - accuracy: 0.8378 - val_loss: 0.4369 - val_accuracy: 0.8098\n",
            "Epoch 8/10\n",
            "52/52 [==============================] - 37s 710ms/step - loss: 0.4174 - accuracy: 0.8457 - val_loss: 0.4259 - val_accuracy: 0.8268\n",
            "Epoch 9/10\n",
            "52/52 [==============================] - 39s 752ms/step - loss: 0.4156 - accuracy: 0.8482 - val_loss: 0.4185 - val_accuracy: 0.8366\n",
            "Epoch 10/10\n",
            "52/52 [==============================] - 39s 747ms/step - loss: 0.4224 - accuracy: 0.8549 - val_loss: 0.4195 - val_accuracy: 0.8390\n",
            "13/13 [==============================] - 2s 173ms/step - loss: 0.4195 - accuracy: 0.8390\n",
            "fold number #3 \n",
            "\n",
            "Epoch 1/10\n",
            "52/52 [==============================] - 53s 805ms/step - loss: 0.5638 - accuracy: 0.7835 - val_loss: 0.4411 - val_accuracy: 0.8171\n",
            "Epoch 2/10\n",
            "52/52 [==============================] - 36s 701ms/step - loss: 0.4752 - accuracy: 0.8177 - val_loss: 0.4660 - val_accuracy: 0.7902\n",
            "Epoch 3/10\n",
            "52/52 [==============================] - 37s 698ms/step - loss: 0.4567 - accuracy: 0.8268 - val_loss: 0.3715 - val_accuracy: 0.8561\n",
            "Epoch 4/10\n",
            "52/52 [==============================] - 37s 723ms/step - loss: 0.4536 - accuracy: 0.8354 - val_loss: 0.3818 - val_accuracy: 0.8585\n",
            "Epoch 5/10\n",
            "52/52 [==============================] - 36s 687ms/step - loss: 0.4381 - accuracy: 0.8305 - val_loss: 0.3770 - val_accuracy: 0.8512\n",
            "Epoch 6/10\n",
            "52/52 [==============================] - 40s 775ms/step - loss: 0.4269 - accuracy: 0.8512 - val_loss: 0.3927 - val_accuracy: 0.8488\n",
            "Epoch 7/10\n",
            "52/52 [==============================] - 38s 742ms/step - loss: 0.4700 - accuracy: 0.8250 - val_loss: 0.3760 - val_accuracy: 0.8463\n",
            "Epoch 8/10\n",
            "52/52 [==============================] - 38s 731ms/step - loss: 0.4323 - accuracy: 0.8476 - val_loss: 0.3865 - val_accuracy: 0.8488\n",
            "Epoch 9/10\n",
            "52/52 [==============================] - 36s 704ms/step - loss: 0.4242 - accuracy: 0.8476 - val_loss: 0.3658 - val_accuracy: 0.8537\n",
            "Epoch 10/10\n",
            "52/52 [==============================] - 39s 748ms/step - loss: 0.4212 - accuracy: 0.8537 - val_loss: 0.3665 - val_accuracy: 0.8585\n",
            "13/13 [==============================] - 2s 171ms/step - loss: 0.3665 - accuracy: 0.8585\n",
            "fold number #4 \n",
            "\n",
            "Epoch 1/10\n",
            "52/52 [==============================] - 47s 723ms/step - loss: 0.5685 - accuracy: 0.7811 - val_loss: 0.4327 - val_accuracy: 0.7976\n",
            "Epoch 2/10\n",
            "52/52 [==============================] - 47s 914ms/step - loss: 0.4595 - accuracy: 0.8226 - val_loss: 0.3905 - val_accuracy: 0.8439\n",
            "Epoch 3/10\n",
            "52/52 [==============================] - 52s 1s/step - loss: 0.4363 - accuracy: 0.8378 - val_loss: 0.4192 - val_accuracy: 0.8415\n",
            "Epoch 4/10\n",
            "52/52 [==============================] - 34s 660ms/step - loss: 0.4541 - accuracy: 0.8311 - val_loss: 0.4224 - val_accuracy: 0.8268\n",
            "Epoch 5/10\n",
            "52/52 [==============================] - 37s 714ms/step - loss: 0.4355 - accuracy: 0.8427 - val_loss: 0.4052 - val_accuracy: 0.8415\n",
            "Epoch 6/10\n",
            "52/52 [==============================] - 36s 697ms/step - loss: 0.4319 - accuracy: 0.8402 - val_loss: 0.3952 - val_accuracy: 0.8610\n",
            "Epoch 7/10\n",
            "52/52 [==============================] - 37s 711ms/step - loss: 0.4213 - accuracy: 0.8482 - val_loss: 0.3779 - val_accuracy: 0.8634\n",
            "Epoch 8/10\n",
            "52/52 [==============================] - 38s 740ms/step - loss: 0.4229 - accuracy: 0.8409 - val_loss: 0.4005 - val_accuracy: 0.8463\n",
            "Epoch 9/10\n",
            "52/52 [==============================] - 39s 756ms/step - loss: 0.4194 - accuracy: 0.8457 - val_loss: 0.3783 - val_accuracy: 0.8537\n",
            "Epoch 10/10\n",
            "52/52 [==============================] - 38s 727ms/step - loss: 0.4202 - accuracy: 0.8537 - val_loss: 0.3850 - val_accuracy: 0.8488\n",
            "13/13 [==============================] - 4s 294ms/step - loss: 0.3850 - accuracy: 0.8488\n",
            "fold number #5 \n",
            "\n",
            "Epoch 1/10\n",
            "52/52 [==============================] - 47s 722ms/step - loss: 0.5741 - accuracy: 0.7683 - val_loss: 0.4726 - val_accuracy: 0.7780\n",
            "Epoch 2/10\n",
            "52/52 [==============================] - 38s 729ms/step - loss: 0.4756 - accuracy: 0.8293 - val_loss: 0.4249 - val_accuracy: 0.8317\n",
            "Epoch 3/10\n",
            "52/52 [==============================] - 38s 741ms/step - loss: 0.4633 - accuracy: 0.8366 - val_loss: 0.3984 - val_accuracy: 0.8317\n",
            "Epoch 4/10\n",
            "52/52 [==============================] - 35s 679ms/step - loss: 0.4471 - accuracy: 0.8409 - val_loss: 0.3867 - val_accuracy: 0.8366\n",
            "Epoch 5/10\n",
            "52/52 [==============================] - 37s 714ms/step - loss: 0.4553 - accuracy: 0.8317 - val_loss: 0.3829 - val_accuracy: 0.8390\n",
            "Epoch 6/10\n",
            "52/52 [==============================] - 35s 677ms/step - loss: 0.4476 - accuracy: 0.8457 - val_loss: 0.4115 - val_accuracy: 0.8366\n",
            "Epoch 7/10\n",
            "52/52 [==============================] - 36s 701ms/step - loss: 0.4469 - accuracy: 0.8506 - val_loss: 0.3657 - val_accuracy: 0.8415\n",
            "Epoch 8/10\n",
            "52/52 [==============================] - 35s 667ms/step - loss: 0.4294 - accuracy: 0.8506 - val_loss: 0.3780 - val_accuracy: 0.8390\n",
            "Epoch 9/10\n",
            "52/52 [==============================] - 37s 707ms/step - loss: 0.4267 - accuracy: 0.8555 - val_loss: 0.3577 - val_accuracy: 0.8634\n",
            "Epoch 10/10\n",
            "52/52 [==============================] - 36s 690ms/step - loss: 0.4254 - accuracy: 0.8537 - val_loss: 0.3594 - val_accuracy: 0.8488\n",
            "13/13 [==============================] - 2s 166ms/step - loss: 0.3594 - accuracy: 0.8488\n",
            "accuracy in fold #1: 0.7658536434173584\n",
            "accuracy in fold #2: 0.8390243649482727\n",
            "accuracy in fold #3: 0.8585366010665894\n",
            "accuracy in fold #4: 0.8487805128097534\n",
            "accuracy in fold #5: 0.8487805128097534\n",
            "Model accuracy:  0.8321951270103455\n"
          ]
        }
      ],
      "source": [
        "import pandas as pd\n",
        "import numpy as np\n",
        "from sklearn.model_selection import StratifiedKFold\n",
        "from sklearn.model_selection import train_test_split\n",
        "from tensorflow.keras.models import Sequential\n",
        "from tensorflow.keras.layers import Bidirectional, LSTM, Dense, Flatten, Embedding\n",
        "\n",
        "max_smiles_length = 120\n",
        "\n",
        "tokenizer = Tokenizer(char_level=False)\n",
        "tokenizer.fit_on_texts(tokens)\n",
        "\n",
        "num_tokens = len(tokenizer.word_index) + 1\n",
        "\n",
        "sequences = tokenizer.texts_to_sequences(df['smiles'])\n",
        "\n",
        "padded_sequences = pad_sequences(sequences, maxlen=max_smiles_length, padding='post', truncating='post')\n",
        "\n",
        "X_train, X_test, y_train, y_test = train_test_split(padded_sequences, df['p_np'], test_size=0.2, random_state=42)\n",
        "\n",
        "def create_bilstm_model():\n",
        "    model = Sequential()\n",
        "    model.add(Embedding(input_dim=num_tokens, output_dim=64, input_length=max_smiles_length))\n",
        "    model.add(Bidirectional(LSTM(128, return_sequences=True)))\n",
        "    model.add(Bidirectional(LSTM(64)))\n",
        "    model.add(Dense(32, activation='relu'))\n",
        "    model.add(Dense(16, activation='relu'))\n",
        "    model.add(Dense(1, activation='sigmoid'))\n",
        "\n",
        "    model.compile(loss='binary_crossentropy', optimizer=\"adam\", metrics=['accuracy'])\n",
        "\n",
        "    return model\n",
        "\n",
        "n_splits = 5\n",
        "skf = StratifiedKFold(n_splits=n_splits, shuffle=True, random_state=42)\n",
        "fold_accuracies = []\n",
        "\n",
        "X = padded_sequences\n",
        "y = df['p_np']\n",
        "i = 1\n",
        "\n",
        "for train_index, test_index in skf.split(X, y):\n",
        "    print(f\"fold number #{i} \\n\")\n",
        "    i = i + 1\n",
        "    X_train, X_test = X[train_index], X[test_index]\n",
        "    y_train, y_test = y.iloc[train_index], y.iloc[test_index]\n",
        "\n",
        "    model = create_bilstm_model()\n",
        "    class_weights = {0: 1.2, 1: 1}\n",
        "    model.fit(X_train, y_train, epochs=10, batch_size=32, validation_data=(X_test, y_test), class_weight=class_weights)\n",
        "\n",
        "    accuracy = model.evaluate(X_test, y_test)[1]\n",
        "    fold_accuracies.append(accuracy)\n",
        "\n",
        "for i, accuracy in enumerate(fold_accuracies, 1):\n",
        "    print(f\"accuracy in fold #{i}: {accuracy}\")\n",
        "\n",
        "mean_accuracy = np.mean(fold_accuracies)\n",
        "print(f\"Model accuracy:  {mean_accuracy}\")\n"
      ]
    },
    {
      "cell_type": "markdown",
      "metadata": {
        "id": "0foivpPGwcVS"
      },
      "source": [
        "## **و )**"
      ]
    },
    {
      "cell_type": "markdown",
      "metadata": {
        "id": "kAGBPLHVwgG1"
      },
      "source": [
        "<p dir=\"rtl\">\n",
        "فرمول شیمیایی یک رشته بوده که توالی ان اهمیت دارد اما توالی راست به چپ یا برعمس ان اهمیتی ندارد لذا وقتی از شبکه دو طرفه استفاده میکینمی نتایج بهتر است\n",
        "</p>"
      ]
    },
    {
      "cell_type": "markdown",
      "metadata": {
        "id": "-AVlwtTDwgpD"
      },
      "source": [
        "## **ز )**"
      ]
    },
    {
      "cell_type": "code",
      "execution_count": 22,
      "metadata": {
        "colab": {
          "base_uri": "https://localhost:8080/",
          "height": 1000
        },
        "id": "naNZ6A0FwaIl",
        "outputId": "61ad274d-1bd0-4893-ab15-95b8b1ba10a9"
      },
      "outputs": [
        {
          "name": "stdout",
          "output_type": "stream",
          "text": [
            "\n",
            "Training Baseline model...\n",
            "Epoch 1/10\n",
            "41/41 [==============================] - 1s 12ms/step - loss: 0.6295 - accuracy: 0.7569 - val_loss: 0.5907 - val_accuracy: 0.7927\n",
            "Epoch 2/10\n",
            "41/41 [==============================] - 0s 5ms/step - loss: 0.5102 - accuracy: 0.8034 - val_loss: 0.5288 - val_accuracy: 0.8140\n",
            "Epoch 3/10\n",
            "41/41 [==============================] - 0s 4ms/step - loss: 0.4811 - accuracy: 0.8171 - val_loss: 0.5278 - val_accuracy: 0.8110\n",
            "Epoch 4/10\n",
            "41/41 [==============================] - 0s 4ms/step - loss: 0.4636 - accuracy: 0.8255 - val_loss: 0.5354 - val_accuracy: 0.8079\n",
            "Epoch 5/10\n",
            "41/41 [==============================] - 0s 4ms/step - loss: 0.4523 - accuracy: 0.8247 - val_loss: 0.5203 - val_accuracy: 0.8049\n",
            "Epoch 6/10\n",
            "41/41 [==============================] - 0s 4ms/step - loss: 0.4409 - accuracy: 0.8285 - val_loss: 0.5071 - val_accuracy: 0.8079\n",
            "Epoch 7/10\n",
            "41/41 [==============================] - 0s 4ms/step - loss: 0.4367 - accuracy: 0.8285 - val_loss: 0.5113 - val_accuracy: 0.8171\n",
            "Epoch 8/10\n",
            "41/41 [==============================] - 0s 4ms/step - loss: 0.4201 - accuracy: 0.8377 - val_loss: 0.4988 - val_accuracy: 0.8171\n",
            "Epoch 9/10\n",
            "41/41 [==============================] - 0s 5ms/step - loss: 0.4092 - accuracy: 0.8445 - val_loss: 0.5067 - val_accuracy: 0.8079\n",
            "Epoch 10/10\n",
            "41/41 [==============================] - 0s 5ms/step - loss: 0.4067 - accuracy: 0.8491 - val_loss: 0.4917 - val_accuracy: 0.8171\n",
            "13/13 [==============================] - 0s 2ms/step - loss: 0.3894 - accuracy: 0.8723\n",
            "Accuracy for Baseline on bin [30.0, 40.0): 0.8722891807556152\n",
            "14/14 [==============================] - 0s 3ms/step - loss: 0.3931 - accuracy: 0.8494\n",
            "Accuracy for Baseline on bin [40.0, 50.0): 0.8494117856025696\n",
            "10/10 [==============================] - 0s 3ms/step - loss: 0.4113 - accuracy: 0.8490\n",
            "Accuracy for Baseline on bin [50.0, 60.0): 0.8489933013916016\n",
            "7/7 [==============================] - 0s 3ms/step - loss: 0.4464 - accuracy: 0.7940\n",
            "Accuracy for Baseline on bin [60.0, 70.0): 0.7939698696136475\n",
            "3/3 [==============================] - 0s 6ms/step - loss: 0.4005 - accuracy: 0.8308\n",
            "Accuracy for Baseline on bin [90.0, 100.0): 0.8307692408561707\n",
            "8/8 [==============================] - 0s 3ms/step - loss: 0.4849 - accuracy: 0.8291\n",
            "Accuracy for Baseline on bin [20.0, 30.0): 0.8290598392486572\n",
            "1/1 [==============================] - 0s 33ms/step - loss: 0.2468 - accuracy: 1.0000\n",
            "Accuracy for Baseline on bin [0.0, 10.0): 1.0\n",
            "3/3 [==============================] - 0s 5ms/step - loss: 0.6087 - accuracy: 0.7391\n",
            "Accuracy for Baseline on bin [80.0, 90.0): 0.739130437374115\n",
            "4/4 [==============================] - 0s 4ms/step - loss: 0.4615 - accuracy: 0.8144\n",
            "Accuracy for Baseline on bin [10.0, 20.0): 0.8144329786300659\n",
            "3/3 [==============================] - 0s 6ms/step - loss: 0.5479 - accuracy: 0.7766\n",
            "Accuracy for Baseline on bin [70.0, 80.0): 0.7765957713127136\n",
            "2/2 [==============================] - 0s 8ms/step - loss: 0.5578 - accuracy: 0.7826\n",
            "Accuracy for Baseline on bin [100.0, 110.0): 0.782608687877655\n",
            "1/1 [==============================] - 0s 34ms/step - loss: 0.3235 - accuracy: 0.8182\n",
            "Accuracy for Baseline on bin [110.0, 120.0): 0.8181818127632141\n",
            "\n",
            "Training LSTM model...\n",
            "Epoch 1/10\n",
            "41/41 [==============================] - 20s 374ms/step - loss: 0.5757 - accuracy: 0.7569 - val_loss: 0.5211 - val_accuracy: 0.7896\n",
            "Epoch 2/10\n",
            "41/41 [==============================] - 13s 319ms/step - loss: 0.5602 - accuracy: 0.7569 - val_loss: 0.5195 - val_accuracy: 0.7896\n",
            "Epoch 3/10\n",
            "41/41 [==============================] - 13s 321ms/step - loss: 0.5567 - accuracy: 0.7569 - val_loss: 0.5146 - val_accuracy: 0.7896\n",
            "Epoch 4/10\n",
            "41/41 [==============================] - 13s 322ms/step - loss: 0.5594 - accuracy: 0.7569 - val_loss: 0.5243 - val_accuracy: 0.7896\n",
            "Epoch 5/10\n",
            "41/41 [==============================] - 13s 330ms/step - loss: 0.5590 - accuracy: 0.7569 - val_loss: 0.5144 - val_accuracy: 0.7896\n",
            "Epoch 6/10\n",
            "41/41 [==============================] - 14s 353ms/step - loss: 0.5573 - accuracy: 0.7569 - val_loss: 0.5144 - val_accuracy: 0.7896\n",
            "Epoch 7/10\n",
            "41/41 [==============================] - 14s 337ms/step - loss: 0.5572 - accuracy: 0.7569 - val_loss: 0.5189 - val_accuracy: 0.7896\n",
            "Epoch 8/10\n",
            "41/41 [==============================] - 14s 336ms/step - loss: 0.5583 - accuracy: 0.7576 - val_loss: 0.5197 - val_accuracy: 0.7896\n",
            "Epoch 9/10\n",
            "41/41 [==============================] - 14s 336ms/step - loss: 0.5580 - accuracy: 0.7576 - val_loss: 0.5181 - val_accuracy: 0.7896\n",
            "Epoch 10/10\n",
            "41/41 [==============================] - 14s 332ms/step - loss: 0.5551 - accuracy: 0.7576 - val_loss: 0.5165 - val_accuracy: 0.7896\n",
            "13/13 [==============================] - 2s 160ms/step - loss: 0.4086 - accuracy: 0.8819\n",
            "Accuracy for LSTM on bin [30.0, 40.0): 0.8819277286529541\n",
            "14/14 [==============================] - 1s 88ms/step - loss: 0.4301 - accuracy: 0.8635\n",
            "Accuracy for LSTM on bin [40.0, 50.0): 0.8635293841362\n",
            "10/10 [==============================] - 1s 88ms/step - loss: 0.5255 - accuracy: 0.7819\n",
            "Accuracy for LSTM on bin [50.0, 60.0): 0.781879186630249\n",
            "7/7 [==============================] - 1s 86ms/step - loss: 0.7993 - accuracy: 0.5477\n",
            "Accuracy for LSTM on bin [60.0, 70.0): 0.5477386713027954\n",
            "3/3 [==============================] - 0s 66ms/step - loss: 0.6123 - accuracy: 0.7077\n",
            "Accuracy for LSTM on bin [90.0, 100.0): 0.7076923251152039\n",
            "8/8 [==============================] - 1s 87ms/step - loss: 0.4704 - accuracy: 0.8291\n",
            "Accuracy for LSTM on bin [20.0, 30.0): 0.8290598392486572\n",
            "1/1 [==============================] - 0s 148ms/step - loss: 0.2705 - accuracy: 1.0000\n",
            "Accuracy for LSTM on bin [0.0, 10.0): 1.0\n",
            "3/3 [==============================] - 0s 71ms/step - loss: 0.7619 - accuracy: 0.5797\n",
            "Accuracy for LSTM on bin [80.0, 90.0): 0.5797101259231567\n",
            "4/4 [==============================] - 0s 85ms/step - loss: 0.4875 - accuracy: 0.8144\n",
            "Accuracy for LSTM on bin [10.0, 20.0): 0.8144329786300659\n",
            "3/3 [==============================] - 0s 102ms/step - loss: 0.8675 - accuracy: 0.4894\n",
            "Accuracy for LSTM on bin [70.0, 80.0): 0.4893617033958435\n",
            "2/2 [==============================] - 0s 68ms/step - loss: 0.5755 - accuracy: 0.7391\n",
            "Accuracy for LSTM on bin [100.0, 110.0): 0.739130437374115\n",
            "1/1 [==============================] - 0s 127ms/step - loss: 0.7488 - accuracy: 0.5909\n",
            "Accuracy for LSTM on bin [110.0, 120.0): 0.5909090638160706\n",
            "\n",
            "Training BiLSTM model...\n",
            "Epoch 1/10\n",
            "41/41 [==============================] - 41s 784ms/step - loss: 0.5499 - accuracy: 0.7584 - val_loss: 0.4353 - val_accuracy: 0.7866\n",
            "Epoch 2/10\n",
            "41/41 [==============================] - 30s 723ms/step - loss: 0.4443 - accuracy: 0.8163 - val_loss: 0.3914 - val_accuracy: 0.8598\n",
            "Epoch 3/10\n",
            "41/41 [==============================] - 30s 726ms/step - loss: 0.4208 - accuracy: 0.8354 - val_loss: 0.3895 - val_accuracy: 0.8476\n",
            "Epoch 4/10\n",
            "41/41 [==============================] - 30s 735ms/step - loss: 0.4094 - accuracy: 0.8354 - val_loss: 0.3764 - val_accuracy: 0.8506\n",
            "Epoch 5/10\n",
            "41/41 [==============================] - 32s 763ms/step - loss: 0.4182 - accuracy: 0.8354 - val_loss: 0.3666 - val_accuracy: 0.8567\n",
            "Epoch 6/10\n",
            "41/41 [==============================] - 29s 718ms/step - loss: 0.4057 - accuracy: 0.8331 - val_loss: 0.3802 - val_accuracy: 0.8476\n",
            "Epoch 7/10\n",
            "41/41 [==============================] - 29s 718ms/step - loss: 0.4005 - accuracy: 0.8407 - val_loss: 0.3876 - val_accuracy: 0.8506\n",
            "Epoch 8/10\n",
            "41/41 [==============================] - 29s 722ms/step - loss: 0.4004 - accuracy: 0.8399 - val_loss: 0.3680 - val_accuracy: 0.8506\n",
            "Epoch 9/10\n",
            "41/41 [==============================] - 33s 786ms/step - loss: 0.3943 - accuracy: 0.8361 - val_loss: 0.3662 - val_accuracy: 0.8598\n",
            "Epoch 10/10\n",
            "41/41 [==============================] - 30s 724ms/step - loss: 0.3899 - accuracy: 0.8422 - val_loss: 0.3660 - val_accuracy: 0.8598\n",
            "13/13 [==============================] - 2s 174ms/step - loss: 0.3433 - accuracy: 0.8771\n",
            "Accuracy for BiLSTM on bin [30.0, 40.0): 0.8771084547042847\n",
            "14/14 [==============================] - 2s 165ms/step - loss: 0.3243 - accuracy: 0.8871\n",
            "Accuracy for BiLSTM on bin [40.0, 50.0): 0.8870587944984436\n",
            "10/10 [==============================] - 3s 333ms/step - loss: 0.4103 - accuracy: 0.8389\n",
            "Accuracy for BiLSTM on bin [50.0, 60.0): 0.8389261960983276\n",
            "7/7 [==============================] - 1s 151ms/step - loss: 0.4316 - accuracy: 0.8291\n",
            "Accuracy for BiLSTM on bin [60.0, 70.0): 0.8291457295417786\n",
            "3/3 [==============================] - 0s 109ms/step - loss: 0.3891 - accuracy: 0.8769\n",
            "Accuracy for BiLSTM on bin [90.0, 100.0): 0.8769230842590332\n",
            "8/8 [==============================] - 1s 159ms/step - loss: 0.4478 - accuracy: 0.8291\n",
            "Accuracy for BiLSTM on bin [20.0, 30.0): 0.8290598392486572\n",
            "1/1 [==============================] - 0s 179ms/step - loss: 0.1494 - accuracy: 1.0000\n",
            "Accuracy for BiLSTM on bin [0.0, 10.0): 1.0\n",
            "3/3 [==============================] - 0s 111ms/step - loss: 0.5028 - accuracy: 0.7681\n",
            "Accuracy for BiLSTM on bin [80.0, 90.0): 0.7681159377098083\n",
            "4/4 [==============================] - 1s 133ms/step - loss: 0.4347 - accuracy: 0.8144\n",
            "Accuracy for BiLSTM on bin [10.0, 20.0): 0.8144329786300659\n",
            "3/3 [==============================] - 1s 163ms/step - loss: 0.3996 - accuracy: 0.8298\n",
            "Accuracy for BiLSTM on bin [70.0, 80.0): 0.8297872543334961\n",
            "2/2 [==============================] - 0s 104ms/step - loss: 0.3023 - accuracy: 0.8913\n",
            "Accuracy for BiLSTM on bin [100.0, 110.0): 0.8913043737411499\n",
            "1/1 [==============================] - 0s 163ms/step - loss: 0.2161 - accuracy: 0.9091\n",
            "Accuracy for BiLSTM on bin [110.0, 120.0): 0.9090909361839294\n"
          ]
        },
        {
          "ename": "ValueError",
          "evalue": "x and y must have same first dimension, but have shapes (13,) and (12,)",
          "output_type": "error",
          "traceback": [
            "\u001b[0;31m---------------------------------------------------------------------------\u001b[0m",
            "\u001b[0;31mValueError\u001b[0m                                Traceback (most recent call last)",
            "\u001b[0;32m<ipython-input-22-dca36e9fff1d>\u001b[0m in \u001b[0;36m<cell line: 92>\u001b[0;34m()\u001b[0m\n\u001b[1;32m     91\u001b[0m \u001b[0;34m\u001b[0m\u001b[0m\n\u001b[1;32m     92\u001b[0m \u001b[0;32mfor\u001b[0m \u001b[0mmodel_name\u001b[0m\u001b[0;34m,\u001b[0m \u001b[0macc\u001b[0m \u001b[0;32min\u001b[0m \u001b[0maccuracies\u001b[0m\u001b[0;34m.\u001b[0m\u001b[0mitems\u001b[0m\u001b[0;34m(\u001b[0m\u001b[0;34m)\u001b[0m\u001b[0;34m:\u001b[0m\u001b[0;34m\u001b[0m\u001b[0;34m\u001b[0m\u001b[0m\n\u001b[0;32m---> 93\u001b[0;31m     \u001b[0mplt\u001b[0m\u001b[0;34m.\u001b[0m\u001b[0mplot\u001b[0m\u001b[0;34m(\u001b[0m\u001b[0mdf\u001b[0m\u001b[0;34m[\u001b[0m\u001b[0;34m'bin'\u001b[0m\u001b[0;34m]\u001b[0m\u001b[0;34m.\u001b[0m\u001b[0munique\u001b[0m\u001b[0;34m(\u001b[0m\u001b[0;34m)\u001b[0m\u001b[0;34m,\u001b[0m \u001b[0macc\u001b[0m\u001b[0;34m,\u001b[0m \u001b[0mlabel\u001b[0m\u001b[0;34m=\u001b[0m\u001b[0mmodel_name\u001b[0m\u001b[0;34m)\u001b[0m\u001b[0;34m\u001b[0m\u001b[0;34m\u001b[0m\u001b[0m\n\u001b[0m\u001b[1;32m     94\u001b[0m \u001b[0;34m\u001b[0m\u001b[0m\n\u001b[1;32m     95\u001b[0m \u001b[0mplt\u001b[0m\u001b[0;34m.\u001b[0m\u001b[0mtitle\u001b[0m\u001b[0;34m(\u001b[0m\u001b[0;34m'Model Accuracy Comparison on Binned SMILES Data'\u001b[0m\u001b[0;34m)\u001b[0m\u001b[0;34m\u001b[0m\u001b[0;34m\u001b[0m\u001b[0m\n",
            "\u001b[0;32m/usr/local/lib/python3.10/dist-packages/matplotlib/pyplot.py\u001b[0m in \u001b[0;36mplot\u001b[0;34m(scalex, scaley, data, *args, **kwargs)\u001b[0m\n\u001b[1;32m   2810\u001b[0m \u001b[0;34m@\u001b[0m\u001b[0m_copy_docstring_and_deprecators\u001b[0m\u001b[0;34m(\u001b[0m\u001b[0mAxes\u001b[0m\u001b[0;34m.\u001b[0m\u001b[0mplot\u001b[0m\u001b[0;34m)\u001b[0m\u001b[0;34m\u001b[0m\u001b[0;34m\u001b[0m\u001b[0m\n\u001b[1;32m   2811\u001b[0m \u001b[0;32mdef\u001b[0m \u001b[0mplot\u001b[0m\u001b[0;34m(\u001b[0m\u001b[0;34m*\u001b[0m\u001b[0margs\u001b[0m\u001b[0;34m,\u001b[0m \u001b[0mscalex\u001b[0m\u001b[0;34m=\u001b[0m\u001b[0;32mTrue\u001b[0m\u001b[0;34m,\u001b[0m \u001b[0mscaley\u001b[0m\u001b[0;34m=\u001b[0m\u001b[0;32mTrue\u001b[0m\u001b[0;34m,\u001b[0m \u001b[0mdata\u001b[0m\u001b[0;34m=\u001b[0m\u001b[0;32mNone\u001b[0m\u001b[0;34m,\u001b[0m \u001b[0;34m**\u001b[0m\u001b[0mkwargs\u001b[0m\u001b[0;34m)\u001b[0m\u001b[0;34m:\u001b[0m\u001b[0;34m\u001b[0m\u001b[0;34m\u001b[0m\u001b[0m\n\u001b[0;32m-> 2812\u001b[0;31m     return gca().plot(\n\u001b[0m\u001b[1;32m   2813\u001b[0m         \u001b[0;34m*\u001b[0m\u001b[0margs\u001b[0m\u001b[0;34m,\u001b[0m \u001b[0mscalex\u001b[0m\u001b[0;34m=\u001b[0m\u001b[0mscalex\u001b[0m\u001b[0;34m,\u001b[0m \u001b[0mscaley\u001b[0m\u001b[0;34m=\u001b[0m\u001b[0mscaley\u001b[0m\u001b[0;34m,\u001b[0m\u001b[0;34m\u001b[0m\u001b[0;34m\u001b[0m\u001b[0m\n\u001b[1;32m   2814\u001b[0m         **({\"data\": data} if data is not None else {}), **kwargs)\n",
            "\u001b[0;32m/usr/local/lib/python3.10/dist-packages/matplotlib/axes/_axes.py\u001b[0m in \u001b[0;36mplot\u001b[0;34m(self, scalex, scaley, data, *args, **kwargs)\u001b[0m\n\u001b[1;32m   1686\u001b[0m         \"\"\"\n\u001b[1;32m   1687\u001b[0m         \u001b[0mkwargs\u001b[0m \u001b[0;34m=\u001b[0m \u001b[0mcbook\u001b[0m\u001b[0;34m.\u001b[0m\u001b[0mnormalize_kwargs\u001b[0m\u001b[0;34m(\u001b[0m\u001b[0mkwargs\u001b[0m\u001b[0;34m,\u001b[0m \u001b[0mmlines\u001b[0m\u001b[0;34m.\u001b[0m\u001b[0mLine2D\u001b[0m\u001b[0;34m)\u001b[0m\u001b[0;34m\u001b[0m\u001b[0;34m\u001b[0m\u001b[0m\n\u001b[0;32m-> 1688\u001b[0;31m         \u001b[0mlines\u001b[0m \u001b[0;34m=\u001b[0m \u001b[0;34m[\u001b[0m\u001b[0;34m*\u001b[0m\u001b[0mself\u001b[0m\u001b[0;34m.\u001b[0m\u001b[0m_get_lines\u001b[0m\u001b[0;34m(\u001b[0m\u001b[0;34m*\u001b[0m\u001b[0margs\u001b[0m\u001b[0;34m,\u001b[0m \u001b[0mdata\u001b[0m\u001b[0;34m=\u001b[0m\u001b[0mdata\u001b[0m\u001b[0;34m,\u001b[0m \u001b[0;34m**\u001b[0m\u001b[0mkwargs\u001b[0m\u001b[0;34m)\u001b[0m\u001b[0;34m]\u001b[0m\u001b[0;34m\u001b[0m\u001b[0;34m\u001b[0m\u001b[0m\n\u001b[0m\u001b[1;32m   1689\u001b[0m         \u001b[0;32mfor\u001b[0m \u001b[0mline\u001b[0m \u001b[0;32min\u001b[0m \u001b[0mlines\u001b[0m\u001b[0;34m:\u001b[0m\u001b[0;34m\u001b[0m\u001b[0;34m\u001b[0m\u001b[0m\n\u001b[1;32m   1690\u001b[0m             \u001b[0mself\u001b[0m\u001b[0;34m.\u001b[0m\u001b[0madd_line\u001b[0m\u001b[0;34m(\u001b[0m\u001b[0mline\u001b[0m\u001b[0;34m)\u001b[0m\u001b[0;34m\u001b[0m\u001b[0;34m\u001b[0m\u001b[0m\n",
            "\u001b[0;32m/usr/local/lib/python3.10/dist-packages/matplotlib/axes/_base.py\u001b[0m in \u001b[0;36m__call__\u001b[0;34m(self, data, *args, **kwargs)\u001b[0m\n\u001b[1;32m    309\u001b[0m                 \u001b[0mthis\u001b[0m \u001b[0;34m+=\u001b[0m \u001b[0margs\u001b[0m\u001b[0;34m[\u001b[0m\u001b[0;36m0\u001b[0m\u001b[0;34m]\u001b[0m\u001b[0;34m,\u001b[0m\u001b[0;34m\u001b[0m\u001b[0;34m\u001b[0m\u001b[0m\n\u001b[1;32m    310\u001b[0m                 \u001b[0margs\u001b[0m \u001b[0;34m=\u001b[0m \u001b[0margs\u001b[0m\u001b[0;34m[\u001b[0m\u001b[0;36m1\u001b[0m\u001b[0;34m:\u001b[0m\u001b[0;34m]\u001b[0m\u001b[0;34m\u001b[0m\u001b[0;34m\u001b[0m\u001b[0m\n\u001b[0;32m--> 311\u001b[0;31m             yield from self._plot_args(\n\u001b[0m\u001b[1;32m    312\u001b[0m                 this, kwargs, ambiguous_fmt_datakey=ambiguous_fmt_datakey)\n\u001b[1;32m    313\u001b[0m \u001b[0;34m\u001b[0m\u001b[0m\n",
            "\u001b[0;32m/usr/local/lib/python3.10/dist-packages/matplotlib/axes/_base.py\u001b[0m in \u001b[0;36m_plot_args\u001b[0;34m(self, tup, kwargs, return_kwargs, ambiguous_fmt_datakey)\u001b[0m\n\u001b[1;32m    502\u001b[0m \u001b[0;34m\u001b[0m\u001b[0m\n\u001b[1;32m    503\u001b[0m         \u001b[0;32mif\u001b[0m \u001b[0mx\u001b[0m\u001b[0;34m.\u001b[0m\u001b[0mshape\u001b[0m\u001b[0;34m[\u001b[0m\u001b[0;36m0\u001b[0m\u001b[0;34m]\u001b[0m \u001b[0;34m!=\u001b[0m \u001b[0my\u001b[0m\u001b[0;34m.\u001b[0m\u001b[0mshape\u001b[0m\u001b[0;34m[\u001b[0m\u001b[0;36m0\u001b[0m\u001b[0;34m]\u001b[0m\u001b[0;34m:\u001b[0m\u001b[0;34m\u001b[0m\u001b[0;34m\u001b[0m\u001b[0m\n\u001b[0;32m--> 504\u001b[0;31m             raise ValueError(f\"x and y must have same first dimension, but \"\n\u001b[0m\u001b[1;32m    505\u001b[0m                              f\"have shapes {x.shape} and {y.shape}\")\n\u001b[1;32m    506\u001b[0m         \u001b[0;32mif\u001b[0m \u001b[0mx\u001b[0m\u001b[0;34m.\u001b[0m\u001b[0mndim\u001b[0m \u001b[0;34m>\u001b[0m \u001b[0;36m2\u001b[0m \u001b[0;32mor\u001b[0m \u001b[0my\u001b[0m\u001b[0;34m.\u001b[0m\u001b[0mndim\u001b[0m \u001b[0;34m>\u001b[0m \u001b[0;36m2\u001b[0m\u001b[0;34m:\u001b[0m\u001b[0;34m\u001b[0m\u001b[0;34m\u001b[0m\u001b[0m\n",
            "\u001b[0;31mValueError\u001b[0m: x and y must have same first dimension, but have shapes (13,) and (12,)"
          ]
        },
        {
          "data": {
            "image/png": "[encoded data removed]",
            "text/plain": [
              "<Figure size 1000x600 with 1 Axes>"
            ]
          },
          "metadata": {},
          "output_type": "display_data"
        }
      ],
      "source": [
        "import pandas as pd\n",
        "import numpy as np\n",
        "import matplotlib.pyplot as plt\n",
        "from sklearn.model_selection import train_test_split\n",
        "from tensorflow.keras.models import Sequential\n",
        "from tensorflow.keras.layers import Dense, Embedding, LSTM, Bidirectional\n",
        "from tensorflow.keras.preprocessing.text import Tokenizer\n",
        "from tensorflow.keras.preprocessing.sequence import pad_sequences\n",
        "\n",
        "# تعریف توکن‌ها\n",
        "tokens = set(\"\".join(df['smiles']))\n",
        "\n",
        "# تعداد توکن‌ها\n",
        "num_tokens = len(tokens) + 1  # اضافه کردن 1 برای توکن پدینگ\n",
        "\n",
        "# تبدیل SMILES به دنباله اعداد با استفاده از توکن‌ها\n",
        "tokenizer = Tokenizer(char_level=False)\n",
        "tokenizer.fit_on_texts(tokens)\n",
        "\n",
        "# تبدیل SMILES به دنباله اعداد\n",
        "sequences = tokenizer.texts_to_sequences(df['smiles'])\n",
        "\n",
        "# پر کردن دنباله‌ها به طول ثابت\n",
        "max_smiles_length = 120\n",
        "padded_sequences = pad_sequences(sequences, maxlen=max_smiles_length, padding='post', truncating='post')\n",
        "\n",
        "# افراز داده‌ها بر اساس طول رشته‌ها به بین‌های 10 تایی\n",
        "bins = np.arange(0, 121, 10)\n",
        "df['bin'] = pd.cut(df['smiles'].apply(len), bins=bins, right=False)\n",
        "\n",
        "# تعریف مدل‌ها\n",
        "def create_baseline_model():\n",
        "    model = Sequential()\n",
        "    model.add(Dense(64, input_shape=(X_train.shape[1],), activation='relu'))\n",
        "    model.add(Dense(1, activation='sigmoid'))\n",
        "    model.compile(loss='binary_crossentropy', optimizer='adam', metrics=['accuracy'])\n",
        "    return model\n",
        "\n",
        "def create_lstm_model():\n",
        "    model = Sequential()\n",
        "    model.add(Embedding(input_dim=num_tokens, output_dim=64, input_length=max_smiles_length))\n",
        "    model.add(LSTM(128, return_sequences=True))\n",
        "    model.add(LSTM(64))\n",
        "    model.add(Dense(32, activation='relu'))\n",
        "    model.add(Dense(16, activation='relu'))\n",
        "    model.add(Dense(1, activation='sigmoid'))\n",
        "    model.compile(loss='binary_crossentropy', optimizer='adam', metrics=['accuracy'])\n",
        "    return model\n",
        "\n",
        "def create_bilstm_model():\n",
        "    model = Sequential()\n",
        "    model.add(Embedding(input_dim=num_tokens, output_dim=64, input_length=max_smiles_length))\n",
        "    model.add(Bidirectional(LSTM(128, return_sequences=True)))\n",
        "    model.add(Bidirectional(LSTM(64)))\n",
        "    model.add(Dense(32, activation='relu'))\n",
        "    model.add(Dense(16, activation='relu'))\n",
        "    model.add(Dense(1, activation='sigmoid'))\n",
        "    model.compile(loss='binary_crossentropy', optimizer='adam', metrics=['accuracy'])\n",
        "    return model\n",
        "\n",
        "# اجرای مدل‌ها بر روی کل داده\n",
        "models = {\n",
        "    'Baseline': create_baseline_model(),\n",
        "    'LSTM': create_lstm_model(),\n",
        "    'BiLSTM': create_bilstm_model()\n",
        "}\n",
        "\n",
        "accuracies = {'Baseline': [], 'LSTM': [], 'BiLSTM': []}\n",
        "\n",
        "for model_name, model in models.items():\n",
        "    print(f\"\\nTraining {model_name} model...\")\n",
        "    model.fit(X_train, y_train, epochs=10, batch_size=32, validation_split=0.2)\n",
        "\n",
        "    model_accuracies = []\n",
        "\n",
        "    for bin_range in df['bin'].unique():\n",
        "        df_bin = df[df['bin'] == bin_range]\n",
        "\n",
        "        if not df_bin.empty:\n",
        "            X_bin = pad_sequences(tokenizer.texts_to_sequences(df_bin['smiles']), maxlen=max_smiles_length, padding='post', truncating='post')\n",
        "            y_bin = df_bin['p_np']\n",
        "\n",
        "            accuracy = model.evaluate(X_bin, y_bin)[1]\n",
        "            model_accuracies.append(accuracy)\n",
        "            print(f\"Accuracy for {model_name} on bin {bin_range}: {accuracy}\")\n",
        "\n",
        "    accuracies[model_name] = model_accuracies"
      ]
    },
    {
      "cell_type": "markdown",
      "metadata": {},
      "source": [
        "dont see the error part and last pic i draw them in down"
      ]
    },
    {
      "cell_type": "code",
      "execution_count": 27,
      "metadata": {
        "colab": {
          "base_uri": "https://localhost:8080/",
          "height": 564
        },
        "id": "k5tGn3x324tj",
        "outputId": "15e9b7bd-f45e-4f2d-9aaf-4aa190c995b9"
      },
      "outputs": [
        {
          "data": {
            "image/png": "[encoded data removed]",
            "text/plain": [
              "<Figure size 1000x600 with 1 Axes>"
            ]
          },
          "metadata": {},
          "output_type": "display_data"
        }
      ],
      "source": [
        "# نمودار مقایسه دقت مدل‌ها بر حسب بین‌ها\n",
        "plt.figure(figsize=(10, 6))\n",
        "plotx = [0,10,20,30,40,50,60,70,80,90,100,120]\n",
        "\n",
        "for model_name, acc in accuracies.items():\n",
        "    plt.plot(plotx, acc, label=model_name)\n",
        "\n",
        "plt.title('Model Accuracy Comparison on Binned SMILES Data')\n",
        "plt.xlabel('Bin Ranges (SMILES Length)')\n",
        "plt.ylabel('Accuracy')\n",
        "plt.legend()\n",
        "plt.show()"
      ]
    },
    {
      "cell_type": "markdown",
      "metadata": {
        "id": "DYrWQqwS4B91"
      },
      "source": []
    }
  ],
  "metadata": {
    "colab": {
      "collapsed_sections": [
        "3NX-F5F8SJM7",
        "FdXRFdrAbnVj"
      ],
      "provenance": []
    },
    "kernelspec": {
      "display_name": "Python 3",
      "name": "python3"
    },
    "language_info": {
      "name": "python"
    }
  },
  "nbformat": 4,
  "nbformat_minor": 0
}
