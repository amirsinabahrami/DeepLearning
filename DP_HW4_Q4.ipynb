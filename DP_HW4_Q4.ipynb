{
  "nbformat": 4,
  "nbformat_minor": 0,
  "metadata": {
    "colab": {
      "provenance": [],
      "gpuType": "T4"
    },
    "kernelspec": {
      "name": "python3",
      "display_name": "Python 3"
    },
    "language_info": {
      "name": "python"
    },
    "accelerator": "GPU"
  },
  "cells": [
    {
      "cell_type": "markdown",
      "source": [
        "## **Part A)**"
      ],
      "metadata": {
        "id": "A_cIe87NdS5U"
      }
    },
    {
      "cell_type": "markdown",
      "source": [
        "<p dir = \"rtl\">\n",
        "در زمینه یادگیری عمیق، VQ-VAE با VAE  تفاوت‌های معناداری دارد. یکی از نقاط برتر VQ-VAE، استفاده از لایه کد کوانتایزر است که با محدود کردن کد‌های نهفته به فضای کوانتایز شده، ساختارهای دقیقتری ایجاد می‌کند. این شبکه تنها از یک نمونه از توزیع مخفی برای هر واحد در فضای کوانتایز استفاده کرده و از کد‌های گسسته بهره‌مند است که می‌تواند در مسائلی که نیاز به بازنمایی دقیق داریم، مزیت داشته باشد. علاوه بر این، امکان تعلیم دیتا-درایون برای کدبوک در VQ-VAE، به مدل این امکان را می‌دهد که بهترین نمایش‌ها را به صورت اتوماتیک یاد بگیرد. همچنین، VQ-VAE از تابع خطای VQ loss برای آموزش کدبوک استفاده می‌کند که باعث می‌شود که کد‌ها به نمایش‌های معنی‌دار و قابل تفسیر تبدیل شوند. این تفاوت‌ها نشان‌دهنده‌ی پتانسیل VQ-VAE در بهبود بازنمایی داده‌ها و استفاده از اطلاعات گسسته در مسائل مختلف می‌باشند.\n",
        "</p>"
      ],
      "metadata": {
        "id": "te8fo3YMdYHD"
      }
    },
    {
      "cell_type": "markdown",
      "source": [
        "## **Part B)**"
      ],
      "metadata": {
        "id": "LuYQNjz_dYd-"
      }
    },
    {
      "cell_type": "code",
      "execution_count": 78,
      "metadata": {
        "id": "zABOvfVGdI9d"
      },
      "outputs": [],
      "source": [
        "import torch\n",
        "import torch.nn as nn\n",
        "import torch.optim as optim\n",
        "from torch.utils.data import DataLoader\n",
        "from torchvision import datasets, transforms\n",
        "import torchvision.transforms.functional as TF\n",
        "import matplotlib.pyplot as plt"
      ]
    },
    {
      "cell_type": "code",
      "source": [
        "batch_size = 64\n",
        "num_epochs = 50\n",
        "learning_rate = 1e-3\n",
        "embedding_dim = 256\n",
        "num_embeddings = 200\n",
        "commitment_cost = 0.5"
      ],
      "metadata": {
        "id": "MiaFQcf_d3P-"
      },
      "execution_count": 79,
      "outputs": []
    },
    {
      "cell_type": "code",
      "source": [
        "transform = transforms.Compose([transforms.ToTensor()])\n",
        "train_loader = DataLoader(datasets.MNIST('./data', train=True, download=True, transform=transform),\n",
        "                          batch_size=batch_size, shuffle=True, pin_memory=True)"
      ],
      "metadata": {
        "id": "DwVjsSOSd61B"
      },
      "execution_count": 80,
      "outputs": []
    },
    {
      "cell_type": "markdown",
      "source": [
        "## **Part C)**"
      ],
      "metadata": {
        "id": "HQP9i0h1eFux"
      }
    },
    {
      "cell_type": "code",
      "source": [
        "class VectorQuantizer(nn.Module):\n",
        "    def __init__(self, embedding_dim, num_embeddings, commitment_cost):\n",
        "        super(VectorQuantizer, self).__init__()\n",
        "\n",
        "        self.embedding_dim = embedding_dim\n",
        "        self.num_embeddings = num_embeddings\n",
        "        self.commitment_cost = commitment_cost\n",
        "\n",
        "        self.codebook = nn.Embedding(num_embeddings, embedding_dim)\n",
        "        self.codebook.weight.data.uniform_(-1 / num_embeddings, 1 / num_embeddings)\n",
        "\n",
        "    def forward(self, x):\n",
        "        x_flat = x.view(-1, self.embedding_dim)\n",
        "\n",
        "        distances = torch.sum(x_flat**2, dim=1, keepdim=True) + \\\n",
        "                    torch.sum(self.codebook.weight**2, dim=1) - \\\n",
        "                    2 * torch.matmul(x_flat, self.codebook.weight.t())\n",
        "\n",
        "        indices = torch.argmin(distances, dim=1)\n",
        "\n",
        "        quantized = self.codebook(indices).view(x.size())\n",
        "        e_latent_loss = torch.mean((x.detach() - quantized)**2)\n",
        "\n",
        "        commitment_loss = self.commitment_cost * e_latent_loss\n",
        "\n",
        "        recon_loss = nn.MSELoss()(quantized, x)\n",
        "\n",
        "        return quantized, indices, e_latent_loss, commitment_loss, recon_loss\n",
        "\n",
        "class VQVAE(nn.Module):\n",
        "    def __init__(self, input_channels, embedding_dim, num_embeddings, commitment_cost):\n",
        "        super(VQVAE, self).__init__()\n",
        "\n",
        "        self.encoder = nn.Sequential(\n",
        "            nn.Conv2d(input_channels, 32, kernel_size=4, stride=2, padding=1),\n",
        "            nn.BatchNorm2d(32),\n",
        "            nn.ReLU(),\n",
        "            nn.Conv2d(32, 128, kernel_size=4, stride=2, padding=1),\n",
        "            nn.BatchNorm2d(128),\n",
        "            nn.ReLU(),\n",
        "            nn.Conv2d(128, 256, kernel_size=4, stride=2, padding=1),\n",
        "            nn.BatchNorm2d(256),\n",
        "            nn.ReLU()\n",
        "        )\n",
        "\n",
        "        self.vq_layer = VectorQuantizer(embedding_dim, num_embeddings, commitment_cost)\n",
        "\n",
        "        self.decoder = nn.Sequential(\n",
        "            nn.ConvTranspose2d(embedding_dim, 256, kernel_size=4, stride=2, padding=1),\n",
        "            nn.BatchNorm2d(256),\n",
        "            nn.ReLU(),\n",
        "            nn.ConvTranspose2d(256, 32, kernel_size=4, stride=2, padding=1),\n",
        "            nn.BatchNorm2d(32),\n",
        "            nn.ReLU(),\n",
        "            nn.ConvTranspose2d(32, input_channels, kernel_size=3, stride=3, padding=4)\n",
        "        )\n",
        "\n",
        "    def forward(self, x):\n",
        "        z = self.encoder(x)\n",
        "        quantized, indices, e_latent_loss, commitment_loss, recon_loss = self.vq_layer(z)\n",
        "        x_recon = self.decoder(quantized)\n",
        "        return x_recon, indices, e_latent_loss, commitment_loss, recon_loss\n"
      ],
      "metadata": {
        "id": "aITFwZsteJTP"
      },
      "execution_count": 81,
      "outputs": []
    },
    {
      "cell_type": "markdown",
      "source": [
        "## **Part D)**"
      ],
      "metadata": {
        "id": "K-NPHakUexT1"
      }
    },
    {
      "cell_type": "code",
      "source": [
        "model = VQVAE(input_channels=1, embedding_dim=embedding_dim, num_embeddings=num_embeddings, commitment_cost=commitment_cost)\n",
        "criterion = nn.MSELoss()\n",
        "optimizer = optim.Adam(model.parameters(), lr=learning_rate)"
      ],
      "metadata": {
        "id": "3Eb2avLWe23G"
      },
      "execution_count": 82,
      "outputs": []
    },
    {
      "cell_type": "markdown",
      "source": [
        "## **Part E)**"
      ],
      "metadata": {
        "id": "B6n-P2a6fD88"
      }
    },
    {
      "cell_type": "code",
      "source": [
        "device = torch.device(\"cuda\" if torch.cuda.is_available() else \"cpu\")\n",
        "model.to(device)\n",
        "\n",
        "for epoch in range(num_epochs):\n",
        "    for data, _ in train_loader:\n",
        "        data = data.to(device)\n",
        "\n",
        "        optimizer.zero_grad()\n",
        "        recon, _, e_latent_loss, commitment_loss, recon_loss = model(data)\n",
        "\n",
        "        reloss = criterion(recon, data)\n",
        "        loss = reloss + e_latent_loss + commitment_loss\n",
        "\n",
        "        loss.backward()\n",
        "        optimizer.step()\n",
        "\n",
        "    print(f\"Epoch [{epoch+1}/{num_epochs}], Loss: {loss.item():.4f}\")\n"
      ],
      "metadata": {
        "colab": {
          "base_uri": "https://localhost:8080/"
        },
        "id": "ci2wzQLGfsAQ",
        "outputId": "822b08d5-79ca-4f20-959f-56218633e095"
      },
      "execution_count": 75,
      "outputs": [
        {
          "output_type": "stream",
          "name": "stdout",
          "text": [
            "Epoch [1/50], Loss: 0.5848\n",
            "Epoch [2/50], Loss: 0.5803\n",
            "Epoch [3/50], Loss: 0.5779\n",
            "Epoch [4/50], Loss: 0.5776\n",
            "Epoch [5/50], Loss: 0.5842\n",
            "Epoch [6/50], Loss: 0.5834\n",
            "Epoch [7/50], Loss: 0.5800\n",
            "Epoch [8/50], Loss: 0.5709\n",
            "Epoch [9/50], Loss: 0.5515\n",
            "Epoch [10/50], Loss: 0.5334\n",
            "Epoch [11/50], Loss: 0.4896\n",
            "Epoch [12/50], Loss: 0.4839\n",
            "Epoch [13/50], Loss: 0.4722\n",
            "Epoch [14/50], Loss: 0.4772\n",
            "Epoch [15/50], Loss: 0.4772\n",
            "Epoch [16/50], Loss: 0.4772\n",
            "Epoch [17/50], Loss: 0.4655\n",
            "Epoch [18/50], Loss: 0.4444\n",
            "Epoch [19/50], Loss: 0.4598\n",
            "Epoch [20/50], Loss: 0.4561\n",
            "Epoch [21/50], Loss: 0.4325\n",
            "Epoch [22/50], Loss: 0.4532\n",
            "Epoch [23/50], Loss: 0.4548\n",
            "Epoch [24/50], Loss: 0.4473\n",
            "Epoch [25/50], Loss: 0.4437\n",
            "Epoch [26/50], Loss: 0.4256\n",
            "Epoch [27/50], Loss: 0.4441\n",
            "Epoch [28/50], Loss: 0.4312\n",
            "Epoch [29/50], Loss: 0.4246\n",
            "Epoch [30/50], Loss: 0.4308\n",
            "Epoch [31/50], Loss: 0.4179\n",
            "Epoch [32/50], Loss: 0.4338\n",
            "Epoch [33/50], Loss: 0.4361\n",
            "Epoch [34/50], Loss: 0.4270\n",
            "Epoch [35/50], Loss: 0.4162\n",
            "Epoch [36/50], Loss: 0.4170\n",
            "Epoch [37/50], Loss: 0.4220\n",
            "Epoch [38/50], Loss: 0.4071\n",
            "Epoch [39/50], Loss: 0.4312\n",
            "Epoch [40/50], Loss: 0.4118\n",
            "Epoch [41/50], Loss: 0.4222\n",
            "Epoch [42/50], Loss: 0.4381\n",
            "Epoch [43/50], Loss: 0.4163\n",
            "Epoch [44/50], Loss: 0.4107\n",
            "Epoch [45/50], Loss: 0.4070\n",
            "Epoch [46/50], Loss: 0.4334\n",
            "Epoch [47/50], Loss: 0.4329\n",
            "Epoch [48/50], Loss: 0.4187\n",
            "Epoch [49/50], Loss: 0.4089\n",
            "Epoch [50/50], Loss: 0.4181\n"
          ]
        }
      ]
    },
    {
      "cell_type": "markdown",
      "source": [
        "## **Part F)**"
      ],
      "metadata": {
        "id": "5L_CLDmZ2BTh"
      }
    },
    {
      "cell_type": "code",
      "source": [
        "import matplotlib.pyplot as plt\n",
        "\n",
        "model.eval()\n",
        "\n",
        "with torch.no_grad():\n",
        "    test_batch, _ = next(iter(DataLoader(datasets.MNIST('./data', train=False, download=True, transform=transform),\n",
        "                                         batch_size=batch_size, shuffle=True, pin_memory=True)))\n",
        "\n",
        "    test_batch = test_batch.to(device)\n",
        "    recon_batch, indices, _, _, _ = model(test_batch)\n",
        "    codebook_entries = model.vq_layer.codebook(indices)\n",
        "\n",
        "def plot_images(original, reconstructed, codebook_entries):\n",
        "    plt.figure(figsize=(12, 6))\n",
        "\n",
        "    for i in range(4):\n",
        "        plt.subplot(3, 4, i + 1)\n",
        "        plt.imshow(original[i].cpu().squeeze(), cmap='gray')\n",
        "        plt.title(\"Original\")\n",
        "        plt.axis(\"off\")\n",
        "\n",
        "        plt.subplot(3, 4, i + 5)\n",
        "        plt.imshow(reconstructed[i].cpu().squeeze(), cmap='gray')\n",
        "        plt.title(\"Reconstructed\")\n",
        "        plt.axis(\"off\")\n",
        "\n",
        "        plt.subplot(3, 4, i + 9)\n",
        "        plt.imshow(codebook_entries[i].cpu().squeeze().reshape(16,16), cmap='gray')\n",
        "        plt.title(\"Codebook Entry\")\n",
        "        plt.axis(\"off\")\n",
        "\n",
        "    plt.show()\n",
        "\n",
        "plot_images(test_batch, recon_batch, codebook_entries)\n"
      ],
      "metadata": {
        "colab": {
          "base_uri": "https://localhost:8080/",
          "height": 521
        },
        "id": "1JgHax6vlz72",
        "outputId": "d20a9316-1d12-411c-e9d3-eda1faa4f466"
      },
      "execution_count": 76,
      "outputs": [
        {
          "output_type": "display_data",
          "data": {
            "text/plain": [
              "<Figure size 1200x600 with 12 Axes>"
            ],
            "image/png": "[encoded data removed]"
          },
          "metadata": {}
        }
      ]
    },
    {
      "cell_type": "markdown",
      "source": [
        "## **Part G)**"
      ],
      "metadata": {
        "id": "LZ53kgm42S8k"
      }
    },
    {
      "cell_type": "code",
      "source": [
        "import numpy as np\n",
        "\n",
        "def random_multiply(image):\n",
        "    random_factors = np.random.rand(3)\n",
        "    return torch.round(transforms.ToTensor()(np.concatenate([image*random_factors[0],image*random_factors[1],image*random_factors[2]])))"
      ],
      "metadata": {
        "id": "169Lx-X12WgT"
      },
      "execution_count": 152,
      "outputs": []
    },
    {
      "cell_type": "code",
      "source": [
        "transform_color = transforms.Compose([\n",
        "    transforms.Lambda(lambda x: random_multiply(x)),\n",
        "\n",
        "])\n",
        "\n",
        "original_dataset = datasets.MNIST('./data', train=True, download=True, transform=transform_color)"
      ],
      "metadata": {
        "id": "u3W08LYH6cPX"
      },
      "execution_count": 153,
      "outputs": []
    },
    {
      "cell_type": "code",
      "source": [
        "from torch.utils.data import DataLoader, random_split\n",
        "\n",
        "train_size = int(0.8 * len(original_dataset))\n",
        "val_size = len(original_dataset) - train_size\n",
        "train_dataset, val_dataset = random_split(original_dataset, [train_size, val_size])\n",
        "\n",
        "train_loader = DataLoader(train_dataset, batch_size=batch_size, shuffle=True, pin_memory=True)\n",
        "val_loader = DataLoader(val_dataset, batch_size=batch_size, shuffle=False, pin_memory=True)"
      ],
      "metadata": {
        "id": "rUauOqJl7Ksm"
      },
      "execution_count": 154,
      "outputs": []
    },
    {
      "cell_type": "code",
      "source": [
        "model = VQVAE(input_channels=3, embedding_dim=embedding_dim, num_embeddings=num_embeddings, commitment_cost=commitment_cost)\n",
        "criterion = nn.MSELoss()\n",
        "optimizer = optim.Adam(model.parameters(), lr=learning_rate)\n",
        "\n",
        "device = torch.device(\"cuda\" if torch.cuda.is_available() else \"cpu\")\n",
        "model.to(device)\n",
        "\n",
        "for epoch in range(num_epochs):\n",
        "    model.train()\n",
        "    for data, _ in train_loader:\n",
        "        data = data.to(device)\n",
        "\n",
        "        optimizer.zero_grad()\n",
        "        recon, _, e_latent_loss, commitment_loss, recon_loss = model(data)\n",
        "\n",
        "        loss = recon_loss + e_latent_loss + commitment_loss\n",
        "\n",
        "        loss.backward()\n",
        "        optimizer.step()\n",
        "\n",
        "    model.eval()\n",
        "    val_loss = 0.0\n",
        "    with torch.no_grad():\n",
        "        for data, _ in val_loader:\n",
        "            data = data.to(device)\n",
        "            recon, _, e_latent_loss, commitment_loss, recon_loss = model(data)\n",
        "            val_loss += loss.item()\n",
        "\n",
        "    val_loss /= len(val_loader)\n",
        "    print(f\"Epoch [{epoch+1}/{num_epochs}], Training Loss: {loss.item():.4f}, Validation Loss: {val_loss:.4f}\")\n",
        "\n",
        "torch.save(model.state_dict(), 'vqvae_model.pth')"
      ],
      "metadata": {
        "id": "V3qplGxk4zgy"
      },
      "execution_count": null,
      "outputs": []
    }
  ]
}